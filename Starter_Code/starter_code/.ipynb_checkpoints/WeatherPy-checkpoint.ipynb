{
 "cells": [
  {
   "cell_type": "code",
   "execution_count": null,
   "metadata": {
    "scrolled": true
   },
   "outputs": [],
   "source": []
  },
  {
   "cell_type": "code",
   "execution_count": 21,
   "metadata": {
    "scrolled": true
   },
   "outputs": [],
   "source": [
    "# Dependencies and Setup\n",
    "import matplotlib.pyplot as plt\n",
    "import pandas as pd\n",
    "import numpy as np\n",
    "import requests\n",
    "import time\n",
    "from scipy.stats import linregress\n",
    "\n",
    "# Impor the OpenWeatherMap API key\n",
    "from api_keys import weather_api_key\n",
    "\n",
    "# Import citipy to determine the cities based on latitude and longitude\n",
    "from citipy import citipy"
   ]
  },
  {
   "cell_type": "markdown",
   "metadata": {},
   "source": [
    "### Generate the Cities List by Using the `citipy` Library"
   ]
  },
  {
   "cell_type": "code",
   "execution_count": 22,
   "metadata": {},
   "outputs": [
    {
     "name": "stdout",
     "output_type": "stream",
     "text": [
      "Number of cities in the list: 610\n"
     ]
    }
   ],
   "source": [
    "# Empty list for holding the latitude and longitude combinations\n",
    "lat_lngs = []\n",
    "\n",
    "# Empty list for holding the cities names\n",
    "cities = []\n",
    "\n",
    "# Range of latitudes and longitudes\n",
    "lat_range = (-90, 90)\n",
    "lng_range = (-180, 180)\n",
    "\n",
    "# Create a set of random lat and lng combinations\n",
    "lats = np.random.uniform(lat_range[0], lat_range[1], size=1500)\n",
    "lngs = np.random.uniform(lng_range[0], lng_range[1], size=1500)\n",
    "lat_lngs = zip(lats, lngs)\n",
    "\n",
    "# Identify nearest city for each lat, lng combination\n",
    "for lat_lng in lat_lngs:\n",
    "    city = citipy.nearest_city(lat_lng[0], lat_lng[1]).city_name\n",
    "    \n",
    "    # If the city is unique, then add it to a our cities list\n",
    "    if city not in cities:\n",
    "        cities.append(city)\n",
    "\n",
    "# Print the city count to confirm sufficient count\n",
    "print(f\"Number of cities in the list: {len(cities)}\")"
   ]
  },
  {
   "cell_type": "markdown",
   "metadata": {},
   "source": [
    "---"
   ]
  },
  {
   "cell_type": "markdown",
   "metadata": {},
   "source": [
    "## Requirement 1: Create Plots to Showcase the Relationship Between Weather Variables and Latitude\n",
    "\n",
    "### Use the OpenWeatherMap API to retrieve weather data from the cities list generated in the started code"
   ]
  },
  {
   "cell_type": "code",
   "execution_count": 23,
   "metadata": {},
   "outputs": [
    {
     "name": "stdout",
     "output_type": "stream",
     "text": [
      "Beginning Data Retrieval     \n",
      "-----------------------------\n",
      "Processing Record 1 of Set 1 | busselton\n",
      "Processing Record 2 of Set 1 | leczna\n",
      "Processing Record 3 of Set 1 | atuona\n",
      "Processing Record 4 of Set 1 | oreanda\n",
      "City not found. Skipping...\n",
      "Processing Record 5 of Set 1 | taolanaro\n",
      "City not found. Skipping...\n",
      "Processing Record 6 of Set 1 | kaitangata\n",
      "Processing Record 7 of Set 1 | vao\n",
      "Processing Record 8 of Set 1 | saint anthony\n",
      "Processing Record 9 of Set 1 | namalenga\n",
      "Processing Record 10 of Set 1 | rio gallegos\n",
      "Processing Record 11 of Set 1 | hobart\n",
      "Processing Record 12 of Set 1 | castro\n",
      "Processing Record 13 of Set 1 | butaritari\n",
      "Processing Record 14 of Set 1 | marcona\n",
      "City not found. Skipping...\n",
      "Processing Record 15 of Set 1 | bluff\n",
      "Processing Record 16 of Set 1 | bardiyah\n",
      "Processing Record 17 of Set 1 | formoso do araguaia\n",
      "City not found. Skipping...\n",
      "Processing Record 18 of Set 1 | cape town\n",
      "Processing Record 19 of Set 1 | evensk\n",
      "Processing Record 20 of Set 1 | east london\n",
      "Processing Record 21 of Set 1 | ballina\n",
      "Processing Record 22 of Set 1 | esperance\n",
      "Processing Record 23 of Set 1 | abu kamal\n",
      "Processing Record 24 of Set 1 | victoria\n",
      "Processing Record 25 of Set 1 | salumbar\n",
      "Processing Record 26 of Set 1 | cozumel\n",
      "Processing Record 27 of Set 1 | barrow\n",
      "Processing Record 28 of Set 1 | bhakkar\n",
      "Processing Record 29 of Set 1 | anloga\n",
      "Processing Record 30 of Set 1 | carnarvon\n",
      "Processing Record 31 of Set 1 | ternate\n",
      "Processing Record 32 of Set 1 | saint-philippe\n",
      "Processing Record 33 of Set 1 | avarua\n",
      "Processing Record 34 of Set 1 | arraial do cabo\n",
      "Processing Record 35 of Set 1 | kapaa\n",
      "Processing Record 36 of Set 1 | ayan\n",
      "Processing Record 37 of Set 1 | carutapera\n",
      "Processing Record 38 of Set 1 | jamestown\n",
      "Processing Record 39 of Set 1 | mrirt\n",
      "City not found. Skipping...\n",
      "Processing Record 40 of Set 1 | hastings\n",
      "Processing Record 41 of Set 1 | nome\n",
      "Processing Record 42 of Set 1 | kijang\n",
      "Processing Record 43 of Set 1 | beckley\n",
      "Processing Record 44 of Set 1 | salalah\n",
      "Processing Record 45 of Set 1 | sistranda\n",
      "Processing Record 46 of Set 1 | alofi\n",
      "Processing Record 47 of Set 1 | georgetown\n",
      "Processing Record 48 of Set 1 | caravelas\n",
      "Processing Record 49 of Set 1 | iwanai\n",
      "Processing Record 50 of Set 1 | ushuaia\n",
      "Processing Record 0 of Set 2 | mullaitivu\n",
      "City not found. Skipping...\n",
      "Processing Record 1 of Set 2 | coihaique\n",
      "Processing Record 2 of Set 2 | tasiilaq\n",
      "Processing Record 3 of Set 2 | kiama\n",
      "Processing Record 4 of Set 2 | chagda\n",
      "City not found. Skipping...\n",
      "Processing Record 5 of Set 2 | chokurdakh\n",
      "Processing Record 6 of Set 2 | takhtamukay\n",
      "Processing Record 7 of Set 2 | touros\n",
      "Processing Record 8 of Set 2 | port alfred\n",
      "Processing Record 9 of Set 2 | alice springs\n",
      "Processing Record 10 of Set 2 | mataura\n",
      "Processing Record 11 of Set 2 | punta arenas\n",
      "Processing Record 12 of Set 2 | kuusalu\n",
      "Processing Record 13 of Set 2 | tamiahua\n",
      "Processing Record 14 of Set 2 | coahuayana\n",
      "Processing Record 15 of Set 2 | hermanus\n",
      "Processing Record 16 of Set 2 | katsuura\n",
      "Processing Record 17 of Set 2 | hithadhoo\n",
      "Processing Record 18 of Set 2 | buluang\n",
      "Processing Record 19 of Set 2 | vestmanna\n",
      "Processing Record 20 of Set 2 | tura\n",
      "Processing Record 21 of Set 2 | sataua\n",
      "City not found. Skipping...\n",
      "Processing Record 22 of Set 2 | great yarmouth\n",
      "Processing Record 23 of Set 2 | khonuu\n",
      "City not found. Skipping...\n",
      "Processing Record 24 of Set 2 | faanui\n",
      "Processing Record 25 of Set 2 | rikitea\n",
      "Processing Record 26 of Set 2 | vaini\n",
      "Processing Record 27 of Set 2 | hermiston\n",
      "Processing Record 28 of Set 2 | acapulco\n",
      "Processing Record 29 of Set 2 | houma\n",
      "Processing Record 30 of Set 2 | upernavik\n",
      "Processing Record 31 of Set 2 | illoqqortoormiut\n",
      "City not found. Skipping...\n",
      "Processing Record 32 of Set 2 | aleksandrov gay\n",
      "Processing Record 33 of Set 2 | talaya\n",
      "Processing Record 34 of Set 2 | albany\n",
      "Processing Record 35 of Set 2 | sikonge\n",
      "Processing Record 36 of Set 2 | mackenzie\n",
      "Processing Record 37 of Set 2 | praia\n",
      "Processing Record 38 of Set 2 | sokoni\n",
      "Processing Record 39 of Set 2 | zhigansk\n",
      "Processing Record 40 of Set 2 | klaksvik\n",
      "Processing Record 41 of Set 2 | port elizabeth\n",
      "Processing Record 42 of Set 2 | adrar\n",
      "Processing Record 43 of Set 2 | tazovskiy\n",
      "Processing Record 44 of Set 2 | sovetskiy\n",
      "Processing Record 45 of Set 2 | san giljan\n",
      "Processing Record 46 of Set 2 | kerema\n",
      "Processing Record 47 of Set 2 | sisimiut\n",
      "Processing Record 48 of Set 2 | sambava\n",
      "Processing Record 49 of Set 2 | dosso\n",
      "Processing Record 0 of Set 3 | zhicheng\n",
      "Processing Record 1 of Set 3 | mehamn\n",
      "Processing Record 2 of Set 3 | berlevag\n",
      "Processing Record 3 of Set 3 | pemangkat\n",
      "Processing Record 4 of Set 3 | zhanaozen\n",
      "Processing Record 5 of Set 3 | nikolskoye\n",
      "Processing Record 6 of Set 3 | la romana\n",
      "Processing Record 7 of Set 3 | bredasdorp\n",
      "Processing Record 8 of Set 3 | cam ranh\n",
      "Processing Record 9 of Set 3 | rongcheng\n",
      "Processing Record 10 of Set 3 | portland\n",
      "Processing Record 11 of Set 3 | prince george\n",
      "Processing Record 12 of Set 3 | mahebourg\n",
      "Processing Record 13 of Set 3 | yellowknife\n",
      "Processing Record 14 of Set 3 | cherskiy\n",
      "Processing Record 15 of Set 3 | prizren\n",
      "Processing Record 16 of Set 3 | khatanga\n",
      "Processing Record 17 of Set 3 | tatawin\n",
      "Processing Record 18 of Set 3 | bad neustadt\n",
      "City not found. Skipping...\n",
      "Processing Record 19 of Set 3 | barentsburg\n",
      "City not found. Skipping...\n",
      "Processing Record 20 of Set 3 | norman wells\n",
      "Processing Record 21 of Set 3 | cabo san lucas\n",
      "Processing Record 22 of Set 3 | hirara\n",
      "Processing Record 23 of Set 3 | taldan\n",
      "Processing Record 24 of Set 3 | baruun-urt\n",
      "Processing Record 25 of Set 3 | fortuna\n",
      "Processing Record 26 of Set 3 | qaanaaq\n",
      "Processing Record 27 of Set 3 | muros\n",
      "Processing Record 28 of Set 3 | erzin\n",
      "Processing Record 29 of Set 3 | sao joao da barra\n",
      "Processing Record 30 of Set 3 | saint-georges\n",
      "Processing Record 31 of Set 3 | lebu\n",
      "Processing Record 32 of Set 3 | tuktoyaktuk\n",
      "Processing Record 33 of Set 3 | yurimaguas\n",
      "Processing Record 34 of Set 3 | umzimvubu\n",
      "City not found. Skipping...\n",
      "Processing Record 35 of Set 3 | richards bay\n",
      "Processing Record 36 of Set 3 | belushya guba\n",
      "City not found. Skipping...\n",
      "Processing Record 37 of Set 3 | codrington\n",
      "Processing Record 38 of Set 3 | mount gambier\n",
      "Processing Record 39 of Set 3 | papasquiaro\n",
      "City not found. Skipping...\n",
      "Processing Record 40 of Set 3 | lompoc\n",
      "Processing Record 41 of Set 3 | kodiak\n",
      "Processing Record 42 of Set 3 | krynychky\n",
      "Processing Record 43 of Set 3 | leua\n",
      "Processing Record 44 of Set 3 | airai\n",
      "Processing Record 45 of Set 3 | gizo\n",
      "Processing Record 46 of Set 3 | grand river south east\n",
      "City not found. Skipping...\n",
      "Processing Record 47 of Set 3 | jackson\n",
      "Processing Record 48 of Set 3 | aykhal\n",
      "Processing Record 49 of Set 3 | bengkulu\n",
      "Processing Record 0 of Set 4 | puerto ayora\n",
      "Processing Record 1 of Set 4 | faya\n",
      "Processing Record 2 of Set 4 | kavaratti\n",
      "Processing Record 3 of Set 4 | liwale\n",
      "Processing Record 4 of Set 4 | goundam\n",
      "Processing Record 5 of Set 4 | hazleton\n",
      "Processing Record 6 of Set 4 | altay\n",
      "Processing Record 7 of Set 4 | lolua\n",
      "City not found. Skipping...\n",
      "Processing Record 8 of Set 4 | thompson\n",
      "Processing Record 9 of Set 4 | honningsvag\n",
      "Processing Record 10 of Set 4 | port augusta\n",
      "Processing Record 11 of Set 4 | geraldton\n",
      "Processing Record 12 of Set 4 | tigre\n",
      "Processing Record 13 of Set 4 | tocantinopolis\n",
      "City not found. Skipping...\n",
      "Processing Record 14 of Set 4 | cristalina\n",
      "Processing Record 15 of Set 4 | ribeira grande\n",
      "Processing Record 16 of Set 4 | isilkul\n",
      "Processing Record 17 of Set 4 | tessalit\n",
      "Processing Record 18 of Set 4 | uwayl\n",
      "City not found. Skipping...\n",
      "Processing Record 19 of Set 4 | sitka\n",
      "Processing Record 20 of Set 4 | nhulunbuy\n",
      "Processing Record 21 of Set 4 | jeremie\n",
      "Processing Record 22 of Set 4 | potosi\n",
      "Processing Record 23 of Set 4 | hortobagy\n",
      "Processing Record 24 of Set 4 | port blair\n",
      "Processing Record 25 of Set 4 | vila velha\n",
      "Processing Record 26 of Set 4 | udachnyy\n",
      "Processing Record 27 of Set 4 | rocky mount\n",
      "Processing Record 28 of Set 4 | dikson\n",
      "Processing Record 29 of Set 4 | ruatoria\n",
      "City not found. Skipping...\n",
      "Processing Record 30 of Set 4 | kruisfontein\n",
      "Processing Record 31 of Set 4 | at-bashi\n",
      "Processing Record 32 of Set 4 | mwinilunga\n",
      "Processing Record 33 of Set 4 | hervey bay\n"
     ]
    },
    {
     "name": "stdout",
     "output_type": "stream",
     "text": [
      "Processing Record 34 of Set 4 | mabaruma\n",
      "Processing Record 35 of Set 4 | hilo\n",
      "Processing Record 36 of Set 4 | sao filipe\n",
      "Processing Record 37 of Set 4 | chuy\n",
      "Processing Record 38 of Set 4 | luderitz\n",
      "Processing Record 39 of Set 4 | saint george\n",
      "Processing Record 40 of Set 4 | nizhneyansk\n",
      "City not found. Skipping...\n",
      "Processing Record 41 of Set 4 | avera\n",
      "Processing Record 42 of Set 4 | artyk\n",
      "City not found. Skipping...\n",
      "Processing Record 43 of Set 4 | kulhudhuffushi\n",
      "Processing Record 44 of Set 4 | enkhuizen\n",
      "Processing Record 45 of Set 4 | alenquer\n",
      "Processing Record 46 of Set 4 | poum\n",
      "Processing Record 47 of Set 4 | tuatapere\n",
      "Processing Record 48 of Set 4 | cartagena\n",
      "Processing Record 49 of Set 4 | ponta do sol\n",
      "Processing Record 0 of Set 5 | ngukurr\n",
      "City not found. Skipping...\n",
      "Processing Record 1 of Set 5 | praya\n",
      "Processing Record 2 of Set 5 | roros\n",
      "Processing Record 3 of Set 5 | orlik\n",
      "Processing Record 4 of Set 5 | bethel\n",
      "Processing Record 5 of Set 5 | kudahuvadhoo\n",
      "Processing Record 6 of Set 5 | yulara\n",
      "Processing Record 7 of Set 5 | lorengau\n",
      "Processing Record 8 of Set 5 | mana\n",
      "Processing Record 9 of Set 5 | pisco\n",
      "Processing Record 10 of Set 5 | ormara\n",
      "Processing Record 11 of Set 5 | vestmannaeyjar\n",
      "Processing Record 12 of Set 5 | san patricio\n",
      "Processing Record 13 of Set 5 | stockerau\n",
      "Processing Record 14 of Set 5 | samusu\n",
      "City not found. Skipping...\n",
      "Processing Record 15 of Set 5 | meulaboh\n",
      "Processing Record 16 of Set 5 | lagos\n",
      "Processing Record 17 of Set 5 | mar del plata\n",
      "Processing Record 18 of Set 5 | wanaka\n",
      "Processing Record 19 of Set 5 | zyryanka\n",
      "Processing Record 20 of Set 5 | broome\n",
      "Processing Record 21 of Set 5 | longyearbyen\n",
      "Processing Record 22 of Set 5 | scottsbluff\n",
      "Processing Record 23 of Set 5 | port hardy\n",
      "Processing Record 24 of Set 5 | ostrovnoy\n",
      "Processing Record 25 of Set 5 | menongue\n",
      "Processing Record 26 of Set 5 | nha trang\n",
      "Processing Record 27 of Set 5 | sibolga\n",
      "Processing Record 28 of Set 5 | freeport\n",
      "Processing Record 29 of Set 5 | cayenne\n",
      "Processing Record 30 of Set 5 | weatherford\n",
      "Processing Record 31 of Set 5 | fairbanks\n",
      "Processing Record 32 of Set 5 | puyang\n",
      "Processing Record 33 of Set 5 | nenjiang\n",
      "Processing Record 34 of Set 5 | sao geraldo do araguaia\n",
      "Processing Record 35 of Set 5 | cadillac\n",
      "Processing Record 36 of Set 5 | hambantota\n",
      "Processing Record 37 of Set 5 | sentyabrskiy\n",
      "City not found. Skipping...\n",
      "Processing Record 38 of Set 5 | moose factory\n",
      "Processing Record 39 of Set 5 | kavieng\n",
      "Processing Record 40 of Set 5 | tonantins\n",
      "Processing Record 41 of Set 5 | armacao dos buzios\n",
      "City not found. Skipping...\n",
      "Processing Record 42 of Set 5 | kharan\n",
      "Processing Record 43 of Set 5 | saleaula\n",
      "City not found. Skipping...\n",
      "Processing Record 44 of Set 5 | preeceville\n",
      "Processing Record 45 of Set 5 | inhambane\n",
      "Processing Record 46 of Set 5 | sungaipenuh\n",
      "Processing Record 47 of Set 5 | karauzyak\n",
      "City not found. Skipping...\n",
      "Processing Record 48 of Set 5 | takoradi\n",
      "Processing Record 49 of Set 5 | kahului\n",
      "Processing Record 0 of Set 6 | severo-kurilsk\n",
      "Processing Record 1 of Set 6 | new norfolk\n",
      "Processing Record 2 of Set 6 | mindelo\n",
      "Processing Record 3 of Set 6 | clyde river\n",
      "Processing Record 4 of Set 6 | talgram\n",
      "Processing Record 5 of Set 6 | talnakh\n",
      "Processing Record 6 of Set 6 | providencia\n",
      "Processing Record 7 of Set 6 | juifang\n",
      "City not found. Skipping...\n",
      "Processing Record 8 of Set 6 | blackburn\n",
      "Processing Record 9 of Set 6 | urman\n",
      "Processing Record 10 of Set 6 | dalian\n",
      "Processing Record 11 of Set 6 | tucuma\n",
      "Processing Record 12 of Set 6 | copiapo\n",
      "Processing Record 13 of Set 6 | valparaiso\n",
      "Processing Record 14 of Set 6 | amparo\n",
      "Processing Record 15 of Set 6 | les cayes\n",
      "Processing Record 16 of Set 6 | malanje\n",
      "Processing Record 17 of Set 6 | bolungarvik\n",
      "City not found. Skipping...\n",
      "Processing Record 18 of Set 6 | la rioja\n",
      "Processing Record 19 of Set 6 | saint-paul\n",
      "Processing Record 20 of Set 6 | marevo\n",
      "Processing Record 21 of Set 6 | ahipara\n",
      "Processing Record 22 of Set 6 | ban phai\n",
      "Processing Record 23 of Set 6 | kasungu\n",
      "Processing Record 24 of Set 6 | fort saint james\n",
      "Processing Record 25 of Set 6 | lekoni\n",
      "Processing Record 26 of Set 6 | coquimbo\n",
      "Processing Record 27 of Set 6 | palmer\n",
      "Processing Record 28 of Set 6 | constitucion\n",
      "Processing Record 29 of Set 6 | varkaus\n",
      "Processing Record 30 of Set 6 | khor\n",
      "Processing Record 31 of Set 6 | los llanos de aridane\n",
      "Processing Record 32 of Set 6 | kimbe\n",
      "Processing Record 33 of Set 6 | palencia\n",
      "Processing Record 34 of Set 6 | thunder bay\n",
      "Processing Record 35 of Set 6 | tromso\n",
      "Processing Record 36 of Set 6 | hay river\n",
      "Processing Record 37 of Set 6 | sorong\n",
      "Processing Record 38 of Set 6 | linqiong\n",
      "Processing Record 39 of Set 6 | leshukonskoye\n",
      "Processing Record 40 of Set 6 | attawapiskat\n",
      "City not found. Skipping...\n",
      "Processing Record 41 of Set 6 | killybegs\n",
      "Processing Record 42 of Set 6 | husavik\n",
      "Processing Record 43 of Set 6 | road town\n",
      "Processing Record 44 of Set 6 | saint-joseph\n",
      "Processing Record 45 of Set 6 | san quintin\n",
      "Processing Record 46 of Set 6 | narsaq\n",
      "Processing Record 47 of Set 6 | namibe\n",
      "Processing Record 48 of Set 6 | te anau\n",
      "Processing Record 49 of Set 6 | loznica\n",
      "Processing Record 0 of Set 7 | tilichiki\n",
      "Processing Record 1 of Set 7 | mpulungu\n",
      "Processing Record 2 of Set 7 | prince rupert\n",
      "Processing Record 3 of Set 7 | siderno\n",
      "Processing Record 4 of Set 7 | portel\n",
      "Processing Record 5 of Set 7 | san cristobal\n",
      "Processing Record 6 of Set 7 | severobaykalsk\n",
      "Processing Record 7 of Set 7 | jalu\n",
      "Processing Record 8 of Set 7 | aksarka\n",
      "Processing Record 9 of Set 7 | flin flon\n",
      "Processing Record 10 of Set 7 | oranjestad\n",
      "Processing Record 11 of Set 7 | ferkessedougou\n",
      "Processing Record 12 of Set 7 | nemuro\n",
      "Processing Record 13 of Set 7 | asau\n",
      "Processing Record 14 of Set 7 | tautira\n",
      "Processing Record 15 of Set 7 | panaba\n",
      "Processing Record 16 of Set 7 | tygda\n",
      "Processing Record 17 of Set 7 | puerto lempira\n",
      "Processing Record 18 of Set 7 | araouane\n",
      "Processing Record 19 of Set 7 | la ronge\n",
      "Processing Record 20 of Set 7 | shetpe\n",
      "Processing Record 21 of Set 7 | beira\n",
      "Processing Record 22 of Set 7 | maniwaki\n",
      "Processing Record 23 of Set 7 | itarema\n",
      "Processing Record 24 of Set 7 | kupang\n",
      "Processing Record 25 of Set 7 | mayo\n",
      "Processing Record 26 of Set 7 | port lincoln\n",
      "Processing Record 27 of Set 7 | el campo\n",
      "Processing Record 28 of Set 7 | hasaki\n",
      "Processing Record 29 of Set 7 | kuhdasht\n",
      "Processing Record 30 of Set 7 | mantua\n",
      "Processing Record 31 of Set 7 | tieling\n",
      "Processing Record 32 of Set 7 | souillac\n",
      "Processing Record 33 of Set 7 | nurota\n",
      "Processing Record 34 of Set 7 | kidal\n",
      "Processing Record 35 of Set 7 | kasongo-lunda\n",
      "Processing Record 36 of Set 7 | isangel\n",
      "Processing Record 37 of Set 7 | palauig\n",
      "Processing Record 38 of Set 7 | dahra\n",
      "Processing Record 39 of Set 7 | provideniya\n",
      "Processing Record 40 of Set 7 | kapuskasing\n",
      "Processing Record 41 of Set 7 | nantucket\n",
      "Processing Record 42 of Set 7 | taltal\n",
      "Processing Record 43 of Set 7 | bulgan\n",
      "Processing Record 44 of Set 7 | atar\n",
      "Processing Record 45 of Set 7 | esso\n",
      "Processing Record 46 of Set 7 | grand gaube\n",
      "Processing Record 47 of Set 7 | auki\n",
      "Processing Record 48 of Set 7 | comodoro rivadavia\n",
      "Processing Record 49 of Set 7 | pihani\n",
      "Processing Record 0 of Set 8 | lavrentiya\n",
      "Processing Record 1 of Set 8 | vanimo\n",
      "Processing Record 2 of Set 8 | dolbeau\n",
      "City not found. Skipping...\n",
      "Processing Record 3 of Set 8 | brigantine\n",
      "Processing Record 4 of Set 8 | basco\n",
      "Processing Record 5 of Set 8 | changji\n",
      "Processing Record 6 of Set 8 | huarmey\n",
      "Processing Record 7 of Set 8 | amderma\n",
      "City not found. Skipping...\n",
      "Processing Record 8 of Set 8 | wajima\n",
      "Processing Record 9 of Set 8 | beloha\n",
      "Processing Record 10 of Set 8 | tezu\n",
      "Processing Record 11 of Set 8 | eldikan\n",
      "City not found. Skipping...\n",
      "Processing Record 12 of Set 8 | progreso\n",
      "Processing Record 13 of Set 8 | kutum\n",
      "Processing Record 14 of Set 8 | bahia blanca\n",
      "Processing Record 15 of Set 8 | honiara\n",
      "Processing Record 16 of Set 8 | tigil\n",
      "Processing Record 17 of Set 8 | bambous virieux\n",
      "Processing Record 18 of Set 8 | banda aceh\n",
      "Processing Record 19 of Set 8 | ulladulla\n",
      "Processing Record 20 of Set 8 | ancud\n",
      "Processing Record 21 of Set 8 | eureka\n",
      "Processing Record 22 of Set 8 | hokitika\n",
      "Processing Record 23 of Set 8 | ixtapa\n"
     ]
    },
    {
     "name": "stdout",
     "output_type": "stream",
     "text": [
      "Processing Record 24 of Set 8 | nhlangano\n",
      "Processing Record 25 of Set 8 | nhamunda\n",
      "Processing Record 26 of Set 8 | kryve ozero\n",
      "Processing Record 27 of Set 8 | morros\n",
      "Processing Record 28 of Set 8 | bollnas\n",
      "Processing Record 29 of Set 8 | mumford\n",
      "Processing Record 30 of Set 8 | lasa\n",
      "Processing Record 31 of Set 8 | crab hill\n",
      "City not found. Skipping...\n",
      "Processing Record 32 of Set 8 | easton\n",
      "Processing Record 33 of Set 8 | ilulissat\n",
      "Processing Record 34 of Set 8 | padang\n",
      "Processing Record 35 of Set 8 | katherine\n",
      "Processing Record 36 of Set 8 | gerash\n",
      "Processing Record 37 of Set 8 | biltine\n",
      "Processing Record 38 of Set 8 | ponta delgada\n",
      "Processing Record 39 of Set 8 | gaozhou\n",
      "Processing Record 40 of Set 8 | grand-santi\n",
      "Processing Record 41 of Set 8 | dongying\n",
      "Processing Record 42 of Set 8 | ambon\n",
      "Processing Record 43 of Set 8 | barentu\n",
      "Processing Record 44 of Set 8 | bandarbeyla\n",
      "Processing Record 45 of Set 8 | pestovo\n",
      "Processing Record 46 of Set 8 | puerto madryn\n",
      "Processing Record 47 of Set 8 | korem\n",
      "Processing Record 48 of Set 8 | batagay-alyta\n",
      "Processing Record 49 of Set 8 | falam\n",
      "Processing Record 0 of Set 9 | manavalakurichi\n",
      "Processing Record 1 of Set 9 | saint-pierre\n",
      "Processing Record 2 of Set 9 | bayonet point\n",
      "Processing Record 3 of Set 9 | chiredzi\n",
      "Processing Record 4 of Set 9 | luena\n",
      "Processing Record 5 of Set 9 | camacha\n",
      "Processing Record 6 of Set 9 | placido de castro\n",
      "Processing Record 7 of Set 9 | trairi\n",
      "Processing Record 8 of Set 9 | lakes entrance\n",
      "Processing Record 9 of Set 9 | severomuysk\n",
      "Processing Record 10 of Set 9 | praia da vitoria\n",
      "Processing Record 11 of Set 9 | mys shmidta\n",
      "City not found. Skipping...\n",
      "Processing Record 12 of Set 9 | savannakhet\n",
      "Processing Record 13 of Set 9 | atikokan\n",
      "Processing Record 14 of Set 9 | mayumba\n",
      "Processing Record 15 of Set 9 | acarau\n",
      "Processing Record 16 of Set 9 | quelimane\n",
      "Processing Record 17 of Set 9 | sinnamary\n",
      "Processing Record 18 of Set 9 | bontang\n",
      "Processing Record 19 of Set 9 | golden\n",
      "Processing Record 20 of Set 9 | hami\n",
      "Processing Record 21 of Set 9 | bilma\n",
      "Processing Record 22 of Set 9 | nanortalik\n",
      "Processing Record 23 of Set 9 | saskylakh\n",
      "Processing Record 24 of Set 9 | raiganj\n",
      "Processing Record 25 of Set 9 | tiksi\n",
      "Processing Record 26 of Set 9 | veinticinco de mayo\n",
      "Processing Record 27 of Set 9 | hualmay\n",
      "Processing Record 28 of Set 9 | darnah\n",
      "Processing Record 29 of Set 9 | pochutla\n",
      "Processing Record 30 of Set 9 | wahran\n",
      "City not found. Skipping...\n",
      "Processing Record 31 of Set 9 | icod de los vinos\n",
      "Processing Record 32 of Set 9 | south lake tahoe\n",
      "Processing Record 33 of Set 9 | seymchan\n",
      "Processing Record 34 of Set 9 | baiyin\n",
      "Processing Record 35 of Set 9 | parabel\n",
      "Processing Record 36 of Set 9 | sri aman\n",
      "Processing Record 37 of Set 9 | jabiru\n",
      "City not found. Skipping...\n",
      "Processing Record 38 of Set 9 | tsihombe\n",
      "City not found. Skipping...\n",
      "Processing Record 39 of Set 9 | ray\n",
      "Processing Record 40 of Set 9 | wa\n",
      "City not found. Skipping...\n",
      "Processing Record 41 of Set 9 | iqaluit\n",
      "Processing Record 42 of Set 9 | dalvik\n",
      "Processing Record 43 of Set 9 | sorvag\n",
      "City not found. Skipping...\n",
      "Processing Record 44 of Set 9 | saldanha\n",
      "Processing Record 45 of Set 9 | santa marta\n",
      "Processing Record 46 of Set 9 | pevek\n",
      "Processing Record 47 of Set 9 | lagoa\n",
      "Processing Record 48 of Set 9 | mount darwin\n",
      "Processing Record 49 of Set 9 | sinkat\n",
      "City not found. Skipping...\n",
      "Processing Record 0 of Set 10 | lata\n",
      "Processing Record 1 of Set 10 | bubaque\n",
      "Processing Record 2 of Set 10 | gravdal\n",
      "Processing Record 3 of Set 10 | kisangani\n",
      "Processing Record 4 of Set 10 | yozgat\n",
      "Processing Record 5 of Set 10 | port-gentil\n",
      "Processing Record 6 of Set 10 | mocambique\n",
      "City not found. Skipping...\n",
      "Processing Record 7 of Set 10 | savannah bight\n",
      "Processing Record 8 of Set 10 | ozu\n",
      "Processing Record 9 of Set 10 | tungor\n",
      "Processing Record 10 of Set 10 | achisay\n",
      "City not found. Skipping...\n",
      "Processing Record 11 of Set 10 | arlit\n",
      "Processing Record 12 of Set 10 | pringsewu\n",
      "Processing Record 13 of Set 10 | hirado\n",
      "Processing Record 14 of Set 10 | margate\n",
      "Processing Record 15 of Set 10 | port hedland\n",
      "Processing Record 16 of Set 10 | amaigbo\n",
      "Processing Record 17 of Set 10 | alghero\n",
      "Processing Record 18 of Set 10 | chake chake\n",
      "Processing Record 19 of Set 10 | vila franca do campo\n",
      "Processing Record 20 of Set 10 | kodino\n",
      "Processing Record 21 of Set 10 | champerico\n",
      "Processing Record 22 of Set 10 | saint-denis\n",
      "Processing Record 23 of Set 10 | turukhansk\n",
      "Processing Record 24 of Set 10 | guerrero negro\n",
      "Processing Record 25 of Set 10 | garden city\n",
      "Processing Record 26 of Set 10 | olen\n",
      "Processing Record 27 of Set 10 | debre tabor\n",
      "Processing Record 28 of Set 10 | igrim\n",
      "Processing Record 29 of Set 10 | biak\n",
      "Processing Record 30 of Set 10 | chuka\n",
      "Processing Record 31 of Set 10 | santa rosa\n",
      "Processing Record 32 of Set 10 | katangli\n",
      "Processing Record 33 of Set 10 | candelaria\n",
      "Processing Record 34 of Set 10 | puerto rondon\n",
      "Processing Record 35 of Set 10 | tucuman\n",
      "Processing Record 36 of Set 10 | russell\n",
      "Processing Record 37 of Set 10 | coruripe\n",
      "Processing Record 38 of Set 10 | chernyshkovskiy\n",
      "Processing Record 39 of Set 10 | scicli\n",
      "Processing Record 40 of Set 10 | burns lake\n",
      "Processing Record 41 of Set 10 | makinsk\n",
      "Processing Record 42 of Set 10 | rafai\n",
      "Processing Record 43 of Set 10 | shaunavon\n",
      "Processing Record 44 of Set 10 | sultanpur\n",
      "Processing Record 45 of Set 10 | skovorodino\n",
      "Processing Record 46 of Set 10 | maxixe\n",
      "Processing Record 47 of Set 10 | san vicente\n",
      "Processing Record 48 of Set 10 | bairiki\n",
      "Processing Record 49 of Set 10 | vaitupu\n",
      "City not found. Skipping...\n",
      "Processing Record 0 of Set 11 | ambovombe\n",
      "Processing Record 1 of Set 11 | saint-augustin\n",
      "Processing Record 2 of Set 11 | hai duong\n",
      "Processing Record 3 of Set 11 | amga\n",
      "Processing Record 4 of Set 11 | south venice\n",
      "Processing Record 5 of Set 11 | abu zabad\n",
      "Processing Record 6 of Set 11 | anadyr\n",
      "Processing Record 7 of Set 11 | verkhnyaya inta\n",
      "Processing Record 8 of Set 11 | vardo\n",
      "Processing Record 9 of Set 11 | torbay\n",
      "Processing Record 10 of Set 11 | miyazu\n",
      "Processing Record 11 of Set 11 | togur\n",
      "Processing Record 12 of Set 11 | kyshtovka\n",
      "Processing Record 13 of Set 11 | dunedin\n",
      "Processing Record 14 of Set 11 | tuggurt\n",
      "City not found. Skipping...\n",
      "Processing Record 15 of Set 11 | bacolod\n",
      "Processing Record 16 of Set 11 | huayapam\n",
      "City not found. Skipping...\n",
      "Processing Record 17 of Set 11 | kuytun\n",
      "Processing Record 18 of Set 11 | rabat\n",
      "Processing Record 19 of Set 11 | marondera\n",
      "Processing Record 20 of Set 11 | gobo\n",
      "Processing Record 21 of Set 11 | muli\n",
      "Processing Record 22 of Set 11 | bowen\n",
      "Processing Record 23 of Set 11 | byron bay\n",
      "Processing Record 24 of Set 11 | port macquarie\n",
      "Processing Record 25 of Set 11 | taylorville\n",
      "Processing Record 26 of Set 11 | biscarrosse\n",
      "Processing Record 27 of Set 11 | lago da pedra\n",
      "Processing Record 28 of Set 11 | sept-iles\n",
      "Processing Record 29 of Set 11 | kharp\n",
      "Processing Record 30 of Set 11 | westport\n",
      "Processing Record 31 of Set 11 | waddan\n",
      "Processing Record 32 of Set 11 | flinders\n",
      "Processing Record 33 of Set 11 | egvekinot\n",
      "Processing Record 34 of Set 11 | maloy\n",
      "Processing Record 35 of Set 11 | adalaj\n",
      "Processing Record 36 of Set 11 | noumea\n",
      "Processing Record 37 of Set 11 | mudanjiang\n",
      "Processing Record 38 of Set 11 | kisanga\n",
      "Processing Record 39 of Set 11 | price\n",
      "Processing Record 40 of Set 11 | sassandra\n",
      "Processing Record 41 of Set 11 | murupara\n",
      "Processing Record 42 of Set 11 | chimbarongo\n",
      "Processing Record 43 of Set 11 | ambulu\n",
      "Processing Record 44 of Set 11 | ust-kamchatsk\n",
      "City not found. Skipping...\n",
      "Processing Record 45 of Set 11 | mareeba\n",
      "Processing Record 46 of Set 11 | constantine\n",
      "Processing Record 47 of Set 11 | fereydunshahr\n",
      "Processing Record 48 of Set 11 | vogar\n",
      "Processing Record 49 of Set 11 | maniitsoq\n",
      "Processing Record 0 of Set 12 | bathsheba\n",
      "Processing Record 1 of Set 12 | roma\n",
      "Processing Record 2 of Set 12 | cabatuan\n",
      "Processing Record 3 of Set 12 | tottori\n",
      "Processing Record 4 of Set 12 | atocha\n",
      "Processing Record 5 of Set 12 | viedma\n",
      "Processing Record 6 of Set 12 | altamont\n",
      "Processing Record 7 of Set 12 | abu dhabi\n",
      "Processing Record 8 of Set 12 | ketchikan\n",
      "Processing Record 9 of Set 12 | valley city\n",
      "Processing Record 10 of Set 12 | paulo ramos\n",
      "Processing Record 11 of Set 12 | tuyen quang\n"
     ]
    },
    {
     "name": "stdout",
     "output_type": "stream",
     "text": [
      "Processing Record 12 of Set 12 | rawson\n",
      "Processing Record 13 of Set 12 | shevchenkove\n",
      "Processing Record 14 of Set 12 | dongsheng\n",
      "Processing Record 15 of Set 12 | okhotsk\n",
      "Processing Record 16 of Set 12 | quatre cocos\n",
      "Processing Record 17 of Set 12 | nieuw amsterdam\n",
      "Processing Record 18 of Set 12 | tumannyy\n",
      "City not found. Skipping...\n",
      "Processing Record 19 of Set 12 | kangaatsiaq\n",
      "Processing Record 20 of Set 12 | balykshi\n",
      "Processing Record 21 of Set 12 | camaqua\n",
      "Processing Record 22 of Set 12 | porto walter\n",
      "Processing Record 23 of Set 12 | beyneu\n",
      "Processing Record 24 of Set 12 | guamo\n",
      "Processing Record 25 of Set 12 | umm lajj\n",
      "Processing Record 26 of Set 12 | kilakarai\n",
      "Processing Record 27 of Set 12 | nedjo\n",
      "Processing Record 28 of Set 12 | ijaki\n",
      "City not found. Skipping...\n",
      "Processing Record 29 of Set 12 | grand centre\n",
      "City not found. Skipping...\n",
      "Processing Record 30 of Set 12 | naze\n",
      "Processing Record 31 of Set 12 | waipawa\n",
      "Processing Record 32 of Set 12 | windsor\n",
      "Processing Record 33 of Set 12 | araguari\n",
      "Processing Record 34 of Set 12 | yumen\n",
      "Processing Record 35 of Set 12 | cazaje\n",
      "City not found. Skipping...\n",
      "Processing Record 36 of Set 12 | victor harbor\n",
      "Processing Record 37 of Set 12 | gelibolu\n",
      "Processing Record 38 of Set 12 | songjianghe\n",
      "Processing Record 39 of Set 12 | moratuwa\n",
      "Processing Record 40 of Set 12 | salinopolis\n",
      "Processing Record 41 of Set 12 | bayanday\n",
      "Processing Record 42 of Set 12 | marystown\n",
      "Processing Record 43 of Set 12 | shimoda\n",
      "Processing Record 44 of Set 12 | malakal\n",
      "Processing Record 45 of Set 12 | singaraja\n",
      "Processing Record 46 of Set 12 | aguas de lindoia\n",
      "Processing Record 47 of Set 12 | timra\n",
      "Processing Record 48 of Set 12 | liverpool\n",
      "Processing Record 49 of Set 12 | asilah\n",
      "Processing Record 0 of Set 13 | tarko-sale\n",
      "Processing Record 1 of Set 13 | mahon\n",
      "Processing Record 2 of Set 13 | manavgat\n",
      "Processing Record 3 of Set 13 | marawi\n",
      "Processing Record 4 of Set 13 | navabad\n",
      "City not found. Skipping...\n",
      "Processing Record 5 of Set 13 | dingle\n",
      "Processing Record 6 of Set 13 | palabuhanratu\n",
      "City not found. Skipping...\n",
      "Processing Record 7 of Set 13 | visnes\n",
      "Processing Record 8 of Set 13 | hofn\n",
      "Processing Record 9 of Set 13 | mogadishu\n",
      "-----------------------------\n",
      "Data Retrieval Complete      \n",
      "-----------------------------\n"
     ]
    }
   ],
   "source": [
    "# Set the API base URL\n",
    "url = \"http://api.openweathermap.org/data/2.5/weather?\"\n",
    "units=\"imperial\"\n",
    "\n",
    "# Define an empty list to fetch the weather data for each city\n",
    "city_data = []\n",
    "\n",
    "# Print to logger\n",
    "print(\"Beginning Data Retrieval     \")\n",
    "print(\"-----------------------------\")\n",
    "\n",
    "# Create counters\n",
    "record_count = 1\n",
    "set_count = 1\n",
    "\n",
    "# Loop through all the cities in our list to fetch weather data\n",
    "for i, city in enumerate(cities):\n",
    "        \n",
    "    # Group cities in sets of 50 for logging purposes\n",
    "    if (i % 50 == 0 and i >= 50):\n",
    "        set_count += 1\n",
    "        record_count = 0\n",
    "\n",
    "    # Create endpoint URL with each city\n",
    "    city_url = f\"{url}appid={weather_api_key}&units={units}&q=\"\n",
    "    \n",
    "    # Log the url, record, and set numbers\n",
    "    print(\"Processing Record %s of Set %s | %s\" % (record_count, set_count, city))\n",
    "\n",
    "    # Add 1 to the record count\n",
    "    record_count += 1\n",
    "\n",
    "    # Run an API request for each of the cities\n",
    "    try:\n",
    "        # Parse the JSON and retrieve data\n",
    "        city_weather = requests.get(city_url+city).json()\n",
    "\n",
    "        # Parse out latitude, longitude, max temp, humidity, cloudiness, wind speed, country, and date\n",
    "        city_lat = city_weather[\"coord\"][\"lat\"]\n",
    "        city_lng = city_weather['coord'][\"lon\"]\n",
    "        city_max_temp = city_weather[\"main\"]['temp_max']\n",
    "        city_humidity = city_weather[\"main\"][\"humidity\"]\n",
    "        city_clouds = city_weather[\"clouds\"]['all']\n",
    "        city_wind = city_weather[\"wind\"]['speed']\n",
    "        city_country = city_weather[\"sys\"][\"country\"]\n",
    "        city_date = city_weather['dt']\n",
    "\n",
    "        # Append the City information into city_data list\n",
    "        city_data.append({\"City\": city, \n",
    "                          \"Lat\": city_lat, \n",
    "                          \"Lng\": city_lng, \n",
    "                          \"Max Temp\": city_max_temp,\n",
    "                          \"Humidity\": city_humidity,\n",
    "                          \"Cloudiness\": city_clouds,\n",
    "                          \"Wind Speed\": city_wind,\n",
    "                          \"Country\": city_country,\n",
    "                          \"Date\": city_date})\n",
    "\n",
    "    # If an error is experienced, skip the city\n",
    "    except:\n",
    "        print(\"City not found. Skipping...\")\n",
    "        pass\n",
    "              \n",
    "# Indicate that Data Loading is complete \n",
    "print(\"-----------------------------\")\n",
    "print(\"Data Retrieval Complete      \")\n",
    "print(\"-----------------------------\")"
   ]
  },
  {
   "cell_type": "markdown",
   "metadata": {},
   "source": [
    "# WeatherPy\n",
    "\n",
    "---\n",
    "\n",
    "## Starter Code to Generate Random Geographic Coordinates and a List of Cities"
   ]
  },
  {
   "cell_type": "code",
   "execution_count": 24,
   "metadata": {},
   "outputs": [
    {
     "data": {
      "text/plain": [
       "City          556\n",
       "Lat           556\n",
       "Long            0\n",
       "Max Temp      556\n",
       "Humidity      556\n",
       "Cloudiness    556\n",
       "Wind Speed    556\n",
       "Country       556\n",
       "Date          556\n",
       "dtype: int64"
      ]
     },
     "execution_count": 24,
     "metadata": {},
     "output_type": "execute_result"
    }
   ],
   "source": [
    "# Convert the cities weather data into a Pandas DataFrame\n",
    "#city_data_df =pd.DataFrame({\"City\":city, \"Lat\":city_lat, \"Lng\": city_lng, \"Max Temp\":city_max_temp, \"Humidity\": city_humidity,\"Cloudiness\": city_clouds, \"Wind Speed\": city_wind, \"Country\":city_country, \"Date\":city_date })\n",
    "city_data_df=pd.DataFrame(city_data, columns=[\"City\", \"Lat\", \"Long\", \"Max Temp\", \"Humidity\", \"Cloudiness\", \"Wind Speed\", \"Country\", \"Date\"])\n",
    "# Show Record Count\n",
    "city_data_df.count()"
   ]
  },
  {
   "cell_type": "code",
   "execution_count": 25,
   "metadata": {},
   "outputs": [
    {
     "data": {
      "text/html": [
       "<div>\n",
       "<style scoped>\n",
       "    .dataframe tbody tr th:only-of-type {\n",
       "        vertical-align: middle;\n",
       "    }\n",
       "\n",
       "    .dataframe tbody tr th {\n",
       "        vertical-align: top;\n",
       "    }\n",
       "\n",
       "    .dataframe thead th {\n",
       "        text-align: right;\n",
       "    }\n",
       "</style>\n",
       "<table border=\"1\" class=\"dataframe\">\n",
       "  <thead>\n",
       "    <tr style=\"text-align: right;\">\n",
       "      <th></th>\n",
       "      <th>City</th>\n",
       "      <th>Lat</th>\n",
       "      <th>Long</th>\n",
       "      <th>Max Temp</th>\n",
       "      <th>Humidity</th>\n",
       "      <th>Cloudiness</th>\n",
       "      <th>Wind Speed</th>\n",
       "      <th>Country</th>\n",
       "      <th>Date</th>\n",
       "    </tr>\n",
       "  </thead>\n",
       "  <tbody>\n",
       "    <tr>\n",
       "      <th>0</th>\n",
       "      <td>busselton</td>\n",
       "      <td>-33.6500</td>\n",
       "      <td>NaN</td>\n",
       "      <td>57.13</td>\n",
       "      <td>81</td>\n",
       "      <td>100</td>\n",
       "      <td>10.80</td>\n",
       "      <td>AU</td>\n",
       "      <td>1667426948</td>\n",
       "    </tr>\n",
       "    <tr>\n",
       "      <th>1</th>\n",
       "      <td>leczna</td>\n",
       "      <td>51.3012</td>\n",
       "      <td>NaN</td>\n",
       "      <td>50.11</td>\n",
       "      <td>100</td>\n",
       "      <td>20</td>\n",
       "      <td>5.75</td>\n",
       "      <td>PL</td>\n",
       "      <td>1667426948</td>\n",
       "    </tr>\n",
       "    <tr>\n",
       "      <th>2</th>\n",
       "      <td>atuona</td>\n",
       "      <td>-9.8000</td>\n",
       "      <td>NaN</td>\n",
       "      <td>76.82</td>\n",
       "      <td>76</td>\n",
       "      <td>1</td>\n",
       "      <td>14.97</td>\n",
       "      <td>PF</td>\n",
       "      <td>1667426949</td>\n",
       "    </tr>\n",
       "    <tr>\n",
       "      <th>3</th>\n",
       "      <td>kaitangata</td>\n",
       "      <td>-46.2817</td>\n",
       "      <td>NaN</td>\n",
       "      <td>48.99</td>\n",
       "      <td>95</td>\n",
       "      <td>100</td>\n",
       "      <td>4.63</td>\n",
       "      <td>NZ</td>\n",
       "      <td>1667426950</td>\n",
       "    </tr>\n",
       "    <tr>\n",
       "      <th>4</th>\n",
       "      <td>vao</td>\n",
       "      <td>-22.6667</td>\n",
       "      <td>NaN</td>\n",
       "      <td>75.31</td>\n",
       "      <td>80</td>\n",
       "      <td>77</td>\n",
       "      <td>6.42</td>\n",
       "      <td>NC</td>\n",
       "      <td>1667426777</td>\n",
       "    </tr>\n",
       "  </tbody>\n",
       "</table>\n",
       "</div>"
      ],
      "text/plain": [
       "         City      Lat  Long  Max Temp  Humidity  Cloudiness  Wind Speed  \\\n",
       "0   busselton -33.6500   NaN     57.13        81         100       10.80   \n",
       "1      leczna  51.3012   NaN     50.11       100          20        5.75   \n",
       "2      atuona  -9.8000   NaN     76.82        76           1       14.97   \n",
       "3  kaitangata -46.2817   NaN     48.99        95         100        4.63   \n",
       "4         vao -22.6667   NaN     75.31        80          77        6.42   \n",
       "\n",
       "  Country        Date  \n",
       "0      AU  1667426948  \n",
       "1      PL  1667426948  \n",
       "2      PF  1667426949  \n",
       "3      NZ  1667426950  \n",
       "4      NC  1667426777  "
      ]
     },
     "execution_count": 25,
     "metadata": {},
     "output_type": "execute_result"
    }
   ],
   "source": [
    "# Display sample data\n",
    "city_data_df.head()"
   ]
  },
  {
   "cell_type": "code",
   "execution_count": 26,
   "metadata": {},
   "outputs": [],
   "source": [
    "# Export the City_Data into a csv\n",
    "city_data_df.to_csv(\"output_data/cities.csv\", index_label=\"City_ID\")"
   ]
  },
  {
   "cell_type": "code",
   "execution_count": 27,
   "metadata": {},
   "outputs": [
    {
     "data": {
      "text/html": [
       "<div>\n",
       "<style scoped>\n",
       "    .dataframe tbody tr th:only-of-type {\n",
       "        vertical-align: middle;\n",
       "    }\n",
       "\n",
       "    .dataframe tbody tr th {\n",
       "        vertical-align: top;\n",
       "    }\n",
       "\n",
       "    .dataframe thead th {\n",
       "        text-align: right;\n",
       "    }\n",
       "</style>\n",
       "<table border=\"1\" class=\"dataframe\">\n",
       "  <thead>\n",
       "    <tr style=\"text-align: right;\">\n",
       "      <th></th>\n",
       "      <th>City</th>\n",
       "      <th>Lat</th>\n",
       "      <th>Long</th>\n",
       "      <th>Max Temp</th>\n",
       "      <th>Humidity</th>\n",
       "      <th>Cloudiness</th>\n",
       "      <th>Wind Speed</th>\n",
       "      <th>Country</th>\n",
       "      <th>Date</th>\n",
       "    </tr>\n",
       "    <tr>\n",
       "      <th>City_ID</th>\n",
       "      <th></th>\n",
       "      <th></th>\n",
       "      <th></th>\n",
       "      <th></th>\n",
       "      <th></th>\n",
       "      <th></th>\n",
       "      <th></th>\n",
       "      <th></th>\n",
       "      <th></th>\n",
       "    </tr>\n",
       "  </thead>\n",
       "  <tbody>\n",
       "    <tr>\n",
       "      <th>0</th>\n",
       "      <td>busselton</td>\n",
       "      <td>-33.6500</td>\n",
       "      <td>NaN</td>\n",
       "      <td>57.13</td>\n",
       "      <td>81</td>\n",
       "      <td>100</td>\n",
       "      <td>10.80</td>\n",
       "      <td>AU</td>\n",
       "      <td>1667426948</td>\n",
       "    </tr>\n",
       "    <tr>\n",
       "      <th>1</th>\n",
       "      <td>leczna</td>\n",
       "      <td>51.3012</td>\n",
       "      <td>NaN</td>\n",
       "      <td>50.11</td>\n",
       "      <td>100</td>\n",
       "      <td>20</td>\n",
       "      <td>5.75</td>\n",
       "      <td>PL</td>\n",
       "      <td>1667426948</td>\n",
       "    </tr>\n",
       "    <tr>\n",
       "      <th>2</th>\n",
       "      <td>atuona</td>\n",
       "      <td>-9.8000</td>\n",
       "      <td>NaN</td>\n",
       "      <td>76.82</td>\n",
       "      <td>76</td>\n",
       "      <td>1</td>\n",
       "      <td>14.97</td>\n",
       "      <td>PF</td>\n",
       "      <td>1667426949</td>\n",
       "    </tr>\n",
       "    <tr>\n",
       "      <th>3</th>\n",
       "      <td>kaitangata</td>\n",
       "      <td>-46.2817</td>\n",
       "      <td>NaN</td>\n",
       "      <td>48.99</td>\n",
       "      <td>95</td>\n",
       "      <td>100</td>\n",
       "      <td>4.63</td>\n",
       "      <td>NZ</td>\n",
       "      <td>1667426950</td>\n",
       "    </tr>\n",
       "    <tr>\n",
       "      <th>4</th>\n",
       "      <td>vao</td>\n",
       "      <td>-22.6667</td>\n",
       "      <td>NaN</td>\n",
       "      <td>75.31</td>\n",
       "      <td>80</td>\n",
       "      <td>77</td>\n",
       "      <td>6.42</td>\n",
       "      <td>NC</td>\n",
       "      <td>1667426777</td>\n",
       "    </tr>\n",
       "  </tbody>\n",
       "</table>\n",
       "</div>"
      ],
      "text/plain": [
       "               City      Lat  Long  Max Temp  Humidity  Cloudiness  \\\n",
       "City_ID                                                              \n",
       "0         busselton -33.6500   NaN     57.13        81         100   \n",
       "1            leczna  51.3012   NaN     50.11       100          20   \n",
       "2            atuona  -9.8000   NaN     76.82        76           1   \n",
       "3        kaitangata -46.2817   NaN     48.99        95         100   \n",
       "4               vao -22.6667   NaN     75.31        80          77   \n",
       "\n",
       "         Wind Speed Country        Date  \n",
       "City_ID                                  \n",
       "0             10.80      AU  1667426948  \n",
       "1              5.75      PL  1667426948  \n",
       "2             14.97      PF  1667426949  \n",
       "3              4.63      NZ  1667426950  \n",
       "4              6.42      NC  1667426777  "
      ]
     },
     "execution_count": 27,
     "metadata": {},
     "output_type": "execute_result"
    }
   ],
   "source": [
    "# Read saved data\n",
    "city_data_df = pd.read_csv(\"output_data/cities.csv\", index_col=\"City_ID\")\n",
    "\n",
    "# Display sample data\n",
    "city_data_df.head()"
   ]
  },
  {
   "cell_type": "markdown",
   "metadata": {},
   "source": [
    "### Create the Scatter Plots Requested\n",
    "\n",
    "#### Latitude Vs. Temperature"
   ]
  },
  {
   "cell_type": "code",
   "execution_count": 28,
   "metadata": {
    "tags": []
   },
   "outputs": [
    {
     "data": {
      "image/png": "[encoded data removed]",
      "text/plain": [
       "<Figure size 432x288 with 1 Axes>"
      ]
     },
     "metadata": {
      "needs_background": "light"
     },
     "output_type": "display_data"
    }
   ],
   "source": [
    "# Build scatter plot for latitude vs. temperature\n",
    "plt.scatter(city_data_df[\"Lat\"], city_data_df[\"Max Temp\"])\n",
    "\n",
    "# Incorporate the other graph properties\n",
    "plt.title(\"City Latitued vs. Max Temperature (2022-10-31)\")\n",
    "plt.xlabel(\"Latitude\")\n",
    "plt.ylabel(\"Max Temperature (F)\")\n",
    "\n",
    "# Save the figure\n",
    "plt.savefig(\"output_data/Fig1.png\")\n",
    "\n",
    "# Show plot\n",
    "plt.show()"
   ]
  },
  {
   "cell_type": "markdown",
   "metadata": {},
   "source": [
    "#### Latitude Vs. Humidity"
   ]
  },
  {
   "cell_type": "code",
   "execution_count": 29,
   "metadata": {},
   "outputs": [
    {
     "data": {
      "image/png": "[encoded data removed]",
      "text/plain": [
       "<Figure size 432x288 with 1 Axes>"
      ]
     },
     "metadata": {
      "needs_background": "light"
     },
     "output_type": "display_data"
    }
   ],
   "source": [
    "# Build the scatter plots for latitude vs. humidity\n",
    "plt.scatter(city_data_df[\"Lat\"], city_data_df[\"Humidity\"])\n",
    "\n",
    "# Incorporate the other graph properties\n",
    "plt.title(\"City Latitued vs. Humidity (2022-10-31)\")\n",
    "plt.xlabel(\"Latitude\")\n",
    "plt.ylabel(\"Humidity\")\n",
    "\n",
    "# Save the figure\n",
    "plt.savefig(\"output_data/Fig2.png\")\n",
    "\n",
    "# Show plot\n",
    "plt.show()"
   ]
  },
  {
   "cell_type": "markdown",
   "metadata": {},
   "source": [
    "#### Latitude Vs. Cloudiness"
   ]
  },
  {
   "cell_type": "code",
   "execution_count": 30,
   "metadata": {},
   "outputs": [
    {
     "data": {
      "image/png": "[encoded data removed]",
      "text/plain": [
       "<Figure size 432x288 with 1 Axes>"
      ]
     },
     "metadata": {
      "needs_background": "light"
     },
     "output_type": "display_data"
    }
   ],
   "source": [
    "# Build the scatter plots for latitude vs. cloudiness\n",
    "plt.scatter(city_data_df[\"Lat\"], city_data_df[\"Cloudiness\"])\n",
    "\n",
    "# Incorporate the other graph properties\n",
    "plt.title(\"City Latitued vs. cloudiness (2022-10-31)\")\n",
    "plt.xlabel(\"Latitude\")\n",
    "plt.ylabel(\"cloudiness\")\n",
    "\n",
    "# Save the figure\n",
    "plt.savefig(\"output_data/Fig3.png\")\n",
    "\n",
    "# Show plot\n",
    "plt.show()"
   ]
  },
  {
   "cell_type": "markdown",
   "metadata": {},
   "source": [
    "#### Latitude vs. Wind Speed Plot"
   ]
  },
  {
   "cell_type": "code",
   "execution_count": 31,
   "metadata": {},
   "outputs": [
    {
     "data": {
      "image/png": "[encoded data removed]",
      "text/plain": [
       "<Figure size 432x288 with 1 Axes>"
      ]
     },
     "metadata": {
      "needs_background": "light"
     },
     "output_type": "display_data"
    }
   ],
   "source": [
    "# Build the scatter plots for latitude vs. wind speed\n",
    "plt.scatter(city_data_df[\"Lat\"], city_data_df[\"Wind Speed\"])\n",
    "\n",
    "# Incorporate the other graph properties\n",
    "plt.title(\"City Latitued vs. Wind Speed (2022-10-31)\")\n",
    "plt.xlabel(\"Latitude\")\n",
    "plt.ylabel(\"Wind Speed\")\n",
    "\n",
    "# Save the figure\n",
    "plt.savefig(\"output_data/Fig4.png\")\n",
    "\n",
    "# Show plot\n",
    "plt.show()"
   ]
  },
  {
   "cell_type": "markdown",
   "metadata": {},
   "source": [
    "---\n",
    "\n",
    "## Requirement 2: Compute Linear Regression for Each Relationship\n"
   ]
  },
  {
   "cell_type": "code",
   "execution_count": 68,
   "metadata": {},
   "outputs": [],
   "source": [
    "# Define a function to create Linear Regression plots\n",
    "def linear_regression(x,y):\n",
    "    (slope, intercept, rvalue, pvalue, stderr) = linregress(x,y)\n",
    "    print(f\"The r-squared value is: {rvalue**2}\")\n",
    "    regress_values = x * slope + intercept\n",
    "    line_eq=\"y=\"+str(round(slope,2)) + \"x + \" + str(round(intercept, 2))\n",
    "    plt.scatter(x,y)\n",
    "    plt.plot(x, regress_values,\"r-\")  \n",
    "    plt.annotate(line_eq, xy=(50, 50),xycoords='figure pixels',fontsize=15,color=\"red\")\n",
    "    plt.show()\n",
    " \n"
   ]
  },
  {
   "cell_type": "code",
   "execution_count": 45,
   "metadata": {},
   "outputs": [
    {
     "data": {
      "text/html": [
       "<div>\n",
       "<style scoped>\n",
       "    .dataframe tbody tr th:only-of-type {\n",
       "        vertical-align: middle;\n",
       "    }\n",
       "\n",
       "    .dataframe tbody tr th {\n",
       "        vertical-align: top;\n",
       "    }\n",
       "\n",
       "    .dataframe thead th {\n",
       "        text-align: right;\n",
       "    }\n",
       "</style>\n",
       "<table border=\"1\" class=\"dataframe\">\n",
       "  <thead>\n",
       "    <tr style=\"text-align: right;\">\n",
       "      <th></th>\n",
       "      <th>City</th>\n",
       "      <th>Lat</th>\n",
       "      <th>Long</th>\n",
       "      <th>Max Temp</th>\n",
       "      <th>Humidity</th>\n",
       "      <th>Cloudiness</th>\n",
       "      <th>Wind Speed</th>\n",
       "      <th>Country</th>\n",
       "      <th>Date</th>\n",
       "    </tr>\n",
       "    <tr>\n",
       "      <th>City_ID</th>\n",
       "      <th></th>\n",
       "      <th></th>\n",
       "      <th></th>\n",
       "      <th></th>\n",
       "      <th></th>\n",
       "      <th></th>\n",
       "      <th></th>\n",
       "      <th></th>\n",
       "      <th></th>\n",
       "    </tr>\n",
       "  </thead>\n",
       "  <tbody>\n",
       "    <tr>\n",
       "      <th>1</th>\n",
       "      <td>leczna</td>\n",
       "      <td>51.3012</td>\n",
       "      <td>NaN</td>\n",
       "      <td>50.11</td>\n",
       "      <td>100</td>\n",
       "      <td>20</td>\n",
       "      <td>5.75</td>\n",
       "      <td>PL</td>\n",
       "      <td>1667426948</td>\n",
       "    </tr>\n",
       "    <tr>\n",
       "      <th>5</th>\n",
       "      <td>saint anthony</td>\n",
       "      <td>45.0205</td>\n",
       "      <td>NaN</td>\n",
       "      <td>74.53</td>\n",
       "      <td>38</td>\n",
       "      <td>0</td>\n",
       "      <td>18.41</td>\n",
       "      <td>US</td>\n",
       "      <td>1667426950</td>\n",
       "    </tr>\n",
       "    <tr>\n",
       "      <th>10</th>\n",
       "      <td>butaritari</td>\n",
       "      <td>3.0707</td>\n",
       "      <td>NaN</td>\n",
       "      <td>81.05</td>\n",
       "      <td>69</td>\n",
       "      <td>47</td>\n",
       "      <td>16.08</td>\n",
       "      <td>KI</td>\n",
       "      <td>1667426952</td>\n",
       "    </tr>\n",
       "    <tr>\n",
       "      <th>12</th>\n",
       "      <td>bardiyah</td>\n",
       "      <td>31.7561</td>\n",
       "      <td>NaN</td>\n",
       "      <td>66.87</td>\n",
       "      <td>70</td>\n",
       "      <td>0</td>\n",
       "      <td>9.57</td>\n",
       "      <td>LY</td>\n",
       "      <td>1667426952</td>\n",
       "    </tr>\n",
       "    <tr>\n",
       "      <th>14</th>\n",
       "      <td>evensk</td>\n",
       "      <td>61.9500</td>\n",
       "      <td>NaN</td>\n",
       "      <td>-4.97</td>\n",
       "      <td>82</td>\n",
       "      <td>21</td>\n",
       "      <td>6.53</td>\n",
       "      <td>RU</td>\n",
       "      <td>1667426953</td>\n",
       "    </tr>\n",
       "  </tbody>\n",
       "</table>\n",
       "</div>"
      ],
      "text/plain": [
       "                  City      Lat  Long  Max Temp  Humidity  Cloudiness  \\\n",
       "City_ID                                                                 \n",
       "1               leczna  51.3012   NaN     50.11       100          20   \n",
       "5        saint anthony  45.0205   NaN     74.53        38           0   \n",
       "10          butaritari   3.0707   NaN     81.05        69          47   \n",
       "12            bardiyah  31.7561   NaN     66.87        70           0   \n",
       "14              evensk  61.9500   NaN     -4.97        82          21   \n",
       "\n",
       "         Wind Speed Country        Date  \n",
       "City_ID                                  \n",
       "1              5.75      PL  1667426948  \n",
       "5             18.41      US  1667426950  \n",
       "10            16.08      KI  1667426952  \n",
       "12             9.57      LY  1667426952  \n",
       "14             6.53      RU  1667426953  "
      ]
     },
     "execution_count": 45,
     "metadata": {},
     "output_type": "execute_result"
    }
   ],
   "source": [
    "# Create a DataFrame with the Northern Hemisphere data (Latitude >= 0)\n",
    "northern_hemi_df=city_data_df.loc[city_data_df[\"Lat\"]>=0]\n",
    "\n",
    "# Display sample data\n",
    "northern_hemi_df.head()"
   ]
  },
  {
   "cell_type": "code",
   "execution_count": 46,
   "metadata": {},
   "outputs": [
    {
     "data": {
      "text/html": [
       "<div>\n",
       "<style scoped>\n",
       "    .dataframe tbody tr th:only-of-type {\n",
       "        vertical-align: middle;\n",
       "    }\n",
       "\n",
       "    .dataframe tbody tr th {\n",
       "        vertical-align: top;\n",
       "    }\n",
       "\n",
       "    .dataframe thead th {\n",
       "        text-align: right;\n",
       "    }\n",
       "</style>\n",
       "<table border=\"1\" class=\"dataframe\">\n",
       "  <thead>\n",
       "    <tr style=\"text-align: right;\">\n",
       "      <th></th>\n",
       "      <th>City</th>\n",
       "      <th>Lat</th>\n",
       "      <th>Long</th>\n",
       "      <th>Max Temp</th>\n",
       "      <th>Humidity</th>\n",
       "      <th>Cloudiness</th>\n",
       "      <th>Wind Speed</th>\n",
       "      <th>Country</th>\n",
       "      <th>Date</th>\n",
       "    </tr>\n",
       "    <tr>\n",
       "      <th>City_ID</th>\n",
       "      <th></th>\n",
       "      <th></th>\n",
       "      <th></th>\n",
       "      <th></th>\n",
       "      <th></th>\n",
       "      <th></th>\n",
       "      <th></th>\n",
       "      <th></th>\n",
       "      <th></th>\n",
       "    </tr>\n",
       "  </thead>\n",
       "  <tbody>\n",
       "    <tr>\n",
       "      <th>0</th>\n",
       "      <td>busselton</td>\n",
       "      <td>-33.6500</td>\n",
       "      <td>NaN</td>\n",
       "      <td>57.13</td>\n",
       "      <td>81</td>\n",
       "      <td>100</td>\n",
       "      <td>10.80</td>\n",
       "      <td>AU</td>\n",
       "      <td>1667426948</td>\n",
       "    </tr>\n",
       "    <tr>\n",
       "      <th>2</th>\n",
       "      <td>atuona</td>\n",
       "      <td>-9.8000</td>\n",
       "      <td>NaN</td>\n",
       "      <td>76.82</td>\n",
       "      <td>76</td>\n",
       "      <td>1</td>\n",
       "      <td>14.97</td>\n",
       "      <td>PF</td>\n",
       "      <td>1667426949</td>\n",
       "    </tr>\n",
       "    <tr>\n",
       "      <th>3</th>\n",
       "      <td>kaitangata</td>\n",
       "      <td>-46.2817</td>\n",
       "      <td>NaN</td>\n",
       "      <td>48.99</td>\n",
       "      <td>95</td>\n",
       "      <td>100</td>\n",
       "      <td>4.63</td>\n",
       "      <td>NZ</td>\n",
       "      <td>1667426950</td>\n",
       "    </tr>\n",
       "    <tr>\n",
       "      <th>4</th>\n",
       "      <td>vao</td>\n",
       "      <td>-22.6667</td>\n",
       "      <td>NaN</td>\n",
       "      <td>75.31</td>\n",
       "      <td>80</td>\n",
       "      <td>77</td>\n",
       "      <td>6.42</td>\n",
       "      <td>NC</td>\n",
       "      <td>1667426777</td>\n",
       "    </tr>\n",
       "    <tr>\n",
       "      <th>6</th>\n",
       "      <td>namalenga</td>\n",
       "      <td>-10.9500</td>\n",
       "      <td>NaN</td>\n",
       "      <td>68.43</td>\n",
       "      <td>90</td>\n",
       "      <td>3</td>\n",
       "      <td>4.63</td>\n",
       "      <td>TZ</td>\n",
       "      <td>1667426950</td>\n",
       "    </tr>\n",
       "  </tbody>\n",
       "</table>\n",
       "</div>"
      ],
      "text/plain": [
       "               City      Lat  Long  Max Temp  Humidity  Cloudiness  \\\n",
       "City_ID                                                              \n",
       "0         busselton -33.6500   NaN     57.13        81         100   \n",
       "2            atuona  -9.8000   NaN     76.82        76           1   \n",
       "3        kaitangata -46.2817   NaN     48.99        95         100   \n",
       "4               vao -22.6667   NaN     75.31        80          77   \n",
       "6         namalenga -10.9500   NaN     68.43        90           3   \n",
       "\n",
       "         Wind Speed Country        Date  \n",
       "City_ID                                  \n",
       "0             10.80      AU  1667426948  \n",
       "2             14.97      PF  1667426949  \n",
       "3              4.63      NZ  1667426950  \n",
       "4              6.42      NC  1667426777  \n",
       "6              4.63      TZ  1667426950  "
      ]
     },
     "execution_count": 46,
     "metadata": {},
     "output_type": "execute_result"
    }
   ],
   "source": [
    "# Create a DataFrame with the Southern Hemisphere data (Latitude < 0)\n",
    "southern_hemi_df=city_data_df.loc[city_data_df[\"Lat\"]<=0]\n",
    "\n",
    "# Display sample data\n",
    "southern_hemi_df.head()"
   ]
  },
  {
   "cell_type": "markdown",
   "metadata": {},
   "source": [
    "###  Temperature vs. Latitude Linear Regression Plot"
   ]
  },
  {
   "cell_type": "code",
   "execution_count": 69,
   "metadata": {},
   "outputs": [
    {
     "name": "stdout",
     "output_type": "stream",
     "text": [
      "The r-squared value is: 0.7026876148107664\n"
     ]
    },
    {
     "data": {
      "image/png": "[encoded data removed]",
      "text/plain": [
       "<Figure size 432x288 with 1 Axes>"
      ]
     },
     "metadata": {
      "needs_background": "light"
     },
     "output_type": "display_data"
    }
   ],
   "source": [
    "# Linear regression on Northern Hemisphere\n",
    "regression_plot=linear_regression(northern_hemi_df[\"Lat\"], northern_hemi_df[\"Max Temp\"])\n"
   ]
  },
  {
   "cell_type": "code",
   "execution_count": 70,
   "metadata": {},
   "outputs": [
    {
     "name": "stdout",
     "output_type": "stream",
     "text": [
      "The r-squared value is: 0.4182499296609978\n"
     ]
    },
    {
     "data": {
      "image/png": "[encoded data removed]",
      "text/plain": [
       "<Figure size 432x288 with 1 Axes>"
      ]
     },
     "metadata": {
      "needs_background": "light"
     },
     "output_type": "display_data"
    }
   ],
   "source": [
    "# Linear regression on Southern Hemisphere\n",
    "regression_plot=linear_regression(southern_hemi_df[\"Lat\"], southern_hemi_df[\"Max Temp\"])"
   ]
  },
  {
   "cell_type": "markdown",
   "metadata": {},
   "source": [
    "**Discussion about the linear relationship:** YOUR RESPONSE HERE"
   ]
  },
  {
   "cell_type": "markdown",
   "metadata": {},
   "source": [
    "### Humidity vs. Latitude Linear Regression Plot"
   ]
  },
  {
   "cell_type": "code",
   "execution_count": 71,
   "metadata": {},
   "outputs": [
    {
     "name": "stdout",
     "output_type": "stream",
     "text": [
      "The r-squared value is: 0.02329356940501075\n"
     ]
    },
    {
     "data": {
      "image/png": "[encoded data removed]",
      "text/plain": [
       "<Figure size 432x288 with 1 Axes>"
      ]
     },
     "metadata": {
      "needs_background": "light"
     },
     "output_type": "display_data"
    }
   ],
   "source": [
    "# Northern Hemisphere\n",
    "regression_plot=linear_regression(northern_hemi_df[\"Lat\"], northern_hemi_df[\"Humidity\"])"
   ]
  },
  {
   "cell_type": "code",
   "execution_count": 72,
   "metadata": {},
   "outputs": [
    {
     "name": "stdout",
     "output_type": "stream",
     "text": [
      "The r-squared value is: 0.06435294698669486\n"
     ]
    },
    {
     "data": {
      "image/png": "[encoded data removed]",
      "text/plain": [
       "<Figure size 432x288 with 1 Axes>"
      ]
     },
     "metadata": {
      "needs_background": "light"
     },
     "output_type": "display_data"
    }
   ],
   "source": [
    "# Southern Hemisphere\n",
    "regression_plot=linear_regression(southern_hemi_df[\"Lat\"], southern_hemi_df[\"Humidity\"])"
   ]
  },
  {
   "cell_type": "markdown",
   "metadata": {},
   "source": [
    "**Discussion about the linear relationship:** YOUR RESPONSE HERE"
   ]
  },
  {
   "cell_type": "markdown",
   "metadata": {},
   "source": [
    "### Cloudiness vs. Latitude Linear Regression Plot"
   ]
  },
  {
   "cell_type": "code",
   "execution_count": 73,
   "metadata": {},
   "outputs": [
    {
     "name": "stdout",
     "output_type": "stream",
     "text": [
      "The r-squared value is: 0.006116492886133773\n"
     ]
    },
    {
     "data": {
      "image/png": "[encoded data removed]",
      "text/plain": [
       "<Figure size 432x288 with 1 Axes>"
      ]
     },
     "metadata": {
      "needs_background": "light"
     },
     "output_type": "display_data"
    }
   ],
   "source": [
    "# Northern Hemisphere\n",
    "regression_plot=linear_regression(northern_hemi_df[\"Lat\"], northern_hemi_df[\"Cloudiness\"])"
   ]
  },
  {
   "cell_type": "code",
   "execution_count": 74,
   "metadata": {},
   "outputs": [
    {
     "name": "stdout",
     "output_type": "stream",
     "text": [
      "The r-squared value is: 0.050305178669567394\n"
     ]
    },
    {
     "data": {
      "image/png": "[encoded data removed]",
      "text/plain": [
       "<Figure size 432x288 with 1 Axes>"
      ]
     },
     "metadata": {
      "needs_background": "light"
     },
     "output_type": "display_data"
    }
   ],
   "source": [
    "# Southern Hemisphere\n",
    "regression_plot=linear_regression(southern_hemi_df[\"Lat\"], southern_hemi_df[\"Cloudiness\"])"
   ]
  },
  {
   "cell_type": "markdown",
   "metadata": {},
   "source": [
    "**Discussion about the linear relationship:** YOUR RESPONSE HERE"
   ]
  },
  {
   "cell_type": "markdown",
   "metadata": {},
   "source": [
    "### Wind Speed vs. Latitude Linear Regression Plot"
   ]
  },
  {
   "cell_type": "code",
   "execution_count": 75,
   "metadata": {},
   "outputs": [
    {
     "name": "stdout",
     "output_type": "stream",
     "text": [
      "The r-squared value is: 0.036511971115584706\n"
     ]
    },
    {
     "data": {
      "image/png": "[encoded data removed]",
      "text/plain": [
       "<Figure size 432x288 with 1 Axes>"
      ]
     },
     "metadata": {
      "needs_background": "light"
     },
     "output_type": "display_data"
    }
   ],
   "source": [
    "# Northern Hemisphere\n",
    "regression_plot=linear_regression(northern_hemi_df[\"Lat\"], northern_hemi_df[\"Wind Speed\"])"
   ]
  },
  {
   "cell_type": "code",
   "execution_count": 76,
   "metadata": {},
   "outputs": [
    {
     "name": "stdout",
     "output_type": "stream",
     "text": [
      "The r-squared value is: 0.11828827657557413\n"
     ]
    },
    {
     "data": {
      "image/png": "[encoded data removed]",
      "text/plain": [
       "<Figure size 432x288 with 1 Axes>"
      ]
     },
     "metadata": {
      "needs_background": "light"
     },
     "output_type": "display_data"
    }
   ],
   "source": [
    "# Southern Hemisphere\n",
    "regression_plot=linear_regression(southern_hemi_df[\"Lat\"], southern_hemi_df[\"Wind Speed\"])"
   ]
  },
  {
   "cell_type": "markdown",
   "metadata": {},
   "source": [
    "**Discussion about the linear relationship:** YOUR RESPONSE HERE"
   ]
  },
  {
   "cell_type": "code",
   "execution_count": null,
   "metadata": {},
   "outputs": [],
   "source": []
  }
 ],
 "metadata": {
  "anaconda-cloud": {},
  "kernel_info": {
   "name": "python3"
  },
  "kernelspec": {
   "display_name": "Python 3 (ipykernel)",
   "language": "python",
   "name": "python3"
  },
  "language_info": {
   "codemirror_mode": {
    "name": "ipython",
    "version": 3
   },
   "file_extension": ".py",
   "mimetype": "text/x-python",
   "name": "python",
   "nbconvert_exporter": "python",
   "pygments_lexer": "ipython3",
   "version": "3.9.12"
  },
  "latex_envs": {
   "LaTeX_envs_menu_present": true,
   "autoclose": false,
   "autocomplete": true,
   "bibliofile": "biblio.bib",
   "cite_by": "apalike",
   "current_citInitial": 1,
   "eqLabelWithNumbers": true,
   "eqNumInitial": 1,
   "hotkeys": {
    "equation": "Ctrl-E",
    "itemize": "Ctrl-I"
   },
   "labels_anchors": false,
   "latex_user_defs": false,
   "report_style_numbering": false,
   "user_envs_cfg": false
  },
  "nteract": {
   "version": "0.12.3"
  }
 },
 "nbformat": 4,
 "nbformat_minor": 4
}
