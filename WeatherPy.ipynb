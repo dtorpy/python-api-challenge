{
 "cells": [
  {
   "cell_type": "code",
   "execution_count": null,
   "metadata": {
    "scrolled": true
   },
   "outputs": [],
   "source": []
  },
  {
   "cell_type": "code",
   "execution_count": 2,
   "metadata": {
    "scrolled": true
   },
   "outputs": [],
   "source": [
    "# Dependencies and Setup\n",
    "import matplotlib.pyplot as plt\n",
    "import pandas as pd\n",
    "import numpy as np\n",
    "import requests\n",
    "import time\n",
    "from scipy.stats import linregress\n",
    "\n",
    "# Impor the OpenWeatherMap API key\n",
    "from api_keys import weather_api_key\n",
    "\n",
    "# Import citipy to determine the cities based on latitude and longitude\n",
    "from citipy import citipy"
   ]
  },
  {
   "cell_type": "markdown",
   "metadata": {},
   "source": [
    "### Generate the Cities List by Using the `citipy` Library"
   ]
  },
  {
   "cell_type": "code",
   "execution_count": 3,
   "metadata": {},
   "outputs": [
    {
     "name": "stdout",
     "output_type": "stream",
     "text": [
      "Number of cities in the list: 625\n"
     ]
    }
   ],
   "source": [
    "# Empty list for holding the latitude and longitude combinations\n",
    "lat_lngs = []\n",
    "\n",
    "# Empty list for holding the cities names\n",
    "cities = []\n",
    "\n",
    "# Range of latitudes and longitudes\n",
    "lat_range = (-90, 90)\n",
    "lng_range = (-180, 180)\n",
    "\n",
    "# Create a set of random lat and lng combinations\n",
    "lats = np.random.uniform(lat_range[0], lat_range[1], size=1500)\n",
    "lngs = np.random.uniform(lng_range[0], lng_range[1], size=1500)\n",
    "lat_lngs = zip(lats, lngs)\n",
    "\n",
    "# Identify nearest city for each lat, lng combination\n",
    "for lat_lng in lat_lngs:\n",
    "    city = citipy.nearest_city(lat_lng[0], lat_lng[1]).city_name\n",
    "    \n",
    "    # If the city is unique, then add it to a our cities list\n",
    "    if city not in cities:\n",
    "        cities.append(city)\n",
    "\n",
    "# Print the city count to confirm sufficient count\n",
    "print(f\"Number of cities in the list: {len(cities)}\")"
   ]
  },
  {
   "cell_type": "markdown",
   "metadata": {},
   "source": [
    "---"
   ]
  },
  {
   "cell_type": "markdown",
   "metadata": {},
   "source": [
    "## Requirement 1: Create Plots to Showcase the Relationship Between Weather Variables and Latitude\n",
    "\n",
    "### Use the OpenWeatherMap API to retrieve weather data from the cities list generated in the started code"
   ]
  },
  {
   "cell_type": "code",
   "execution_count": 6,
   "metadata": {},
   "outputs": [
    {
     "name": "stdout",
     "output_type": "stream",
     "text": [
      "Beginning Data Retrieval     \n",
      "-----------------------------\n",
      "Processing Record 1 of Set 1 | vila franca do campo\n",
      "Processing Record 2 of Set 1 | kapaa\n",
      "Processing Record 3 of Set 1 | punta arenas\n",
      "Processing Record 4 of Set 1 | ilulissat\n",
      "Processing Record 5 of Set 1 | ushuaia\n",
      "Processing Record 6 of Set 1 | kharp\n",
      "Processing Record 7 of Set 1 | kachkanar\n",
      "Processing Record 8 of Set 1 | talnakh\n",
      "Processing Record 9 of Set 1 | erzin\n",
      "Processing Record 10 of Set 1 | touros\n",
      "Processing Record 11 of Set 1 | udachnyy\n",
      "Processing Record 12 of Set 1 | tura\n",
      "Processing Record 13 of Set 1 | nome\n",
      "Processing Record 14 of Set 1 | east london\n",
      "Processing Record 15 of Set 1 | butaritari\n",
      "Processing Record 16 of Set 1 | lavrentiya\n",
      "Processing Record 17 of Set 1 | bambous virieux\n",
      "Processing Record 18 of Set 1 | nizhneyansk\n",
      "City not found. Skipping...\n",
      "Processing Record 19 of Set 1 | jamestown\n",
      "Processing Record 20 of Set 1 | emerald\n",
      "Processing Record 21 of Set 1 | margate\n",
      "Processing Record 22 of Set 1 | halifax\n",
      "Processing Record 23 of Set 1 | amderma\n",
      "City not found. Skipping...\n",
      "Processing Record 24 of Set 1 | albany\n",
      "Processing Record 25 of Set 1 | marcona\n",
      "City not found. Skipping...\n",
      "Processing Record 26 of Set 1 | puerto ayora\n",
      "Processing Record 27 of Set 1 | siguiri\n",
      "Processing Record 28 of Set 1 | palana\n",
      "Processing Record 29 of Set 1 | sinkat\n",
      "City not found. Skipping...\n",
      "Processing Record 30 of Set 1 | weiser\n",
      "Processing Record 31 of Set 1 | coihaique\n",
      "Processing Record 32 of Set 1 | pevek\n",
      "Processing Record 33 of Set 1 | nikolskoye\n",
      "Processing Record 34 of Set 1 | khatanga\n",
      "Processing Record 35 of Set 1 | tuktoyaktuk\n",
      "Processing Record 36 of Set 1 | kampot\n",
      "Processing Record 37 of Set 1 | hermanus\n",
      "Processing Record 38 of Set 1 | la rioja\n",
      "Processing Record 39 of Set 1 | bethel\n",
      "Processing Record 40 of Set 1 | codrington\n",
      "Processing Record 41 of Set 1 | port elizabeth\n",
      "Processing Record 42 of Set 1 | wadi maliz\n",
      "Processing Record 43 of Set 1 | keti bandar\n",
      "Processing Record 44 of Set 1 | chuy\n",
      "Processing Record 45 of Set 1 | grand river south east\n",
      "City not found. Skipping...\n",
      "Processing Record 46 of Set 1 | ust-nera\n",
      "Processing Record 47 of Set 1 | thompson\n",
      "Processing Record 48 of Set 1 | illoqqortoormiut\n",
      "City not found. Skipping...\n",
      "Processing Record 49 of Set 1 | warqla\n",
      "City not found. Skipping...\n",
      "Processing Record 50 of Set 1 | upernavik\n",
      "Processing Record 0 of Set 2 | cockburn town\n",
      "Processing Record 1 of Set 2 | provideniya\n",
      "Processing Record 2 of Set 2 | hobart\n",
      "Processing Record 3 of Set 2 | ashqelon\n",
      "Processing Record 4 of Set 2 | comodoro rivadavia\n",
      "Processing Record 5 of Set 2 | lagoa\n",
      "Processing Record 6 of Set 2 | lasa\n",
      "Processing Record 7 of Set 2 | polson\n",
      "Processing Record 8 of Set 2 | am timan\n",
      "Processing Record 9 of Set 2 | georgetown\n",
      "Processing Record 10 of Set 2 | portland\n",
      "Processing Record 11 of Set 2 | hilo\n",
      "Processing Record 12 of Set 2 | fortuna\n",
      "Processing Record 13 of Set 2 | new norfolk\n",
      "Processing Record 14 of Set 2 | taolanaro\n",
      "City not found. Skipping...\n",
      "Processing Record 15 of Set 2 | waipawa\n",
      "Processing Record 16 of Set 2 | hithadhoo\n",
      "Processing Record 17 of Set 2 | mataura\n",
      "Processing Record 18 of Set 2 | bathsheba\n",
      "Processing Record 19 of Set 2 | ahipara\n",
      "Processing Record 20 of Set 2 | douglas\n",
      "Processing Record 21 of Set 2 | cartagena\n",
      "Processing Record 22 of Set 2 | milingimbi\n",
      "City not found. Skipping...\n",
      "Processing Record 23 of Set 2 | freeport\n",
      "Processing Record 24 of Set 2 | ponta delgada\n",
      "Processing Record 25 of Set 2 | busselton\n",
      "Processing Record 26 of Set 2 | zeya\n",
      "Processing Record 27 of Set 2 | borovskoy\n",
      "Processing Record 28 of Set 2 | port lincoln\n",
      "Processing Record 29 of Set 2 | tautira\n",
      "Processing Record 30 of Set 2 | manavalakurichi\n",
      "Processing Record 31 of Set 2 | porto belo\n",
      "Processing Record 32 of Set 2 | pacific grove\n",
      "Processing Record 33 of Set 2 | guerrero negro\n",
      "Processing Record 34 of Set 2 | tiznit\n",
      "Processing Record 35 of Set 2 | san cristobal\n",
      "Processing Record 36 of Set 2 | lanigan\n",
      "Processing Record 37 of Set 2 | atuona\n",
      "Processing Record 38 of Set 2 | lipari\n",
      "Processing Record 39 of Set 2 | geraldton\n",
      "Processing Record 40 of Set 2 | saskylakh\n",
      "Processing Record 41 of Set 2 | barrow\n",
      "Processing Record 42 of Set 2 | russell\n",
      "Processing Record 43 of Set 2 | qaanaaq\n",
      "Processing Record 44 of Set 2 | ponta do sol\n",
      "Processing Record 45 of Set 2 | fairbanks\n",
      "Processing Record 46 of Set 2 | bredasdorp\n",
      "Processing Record 47 of Set 2 | deputatskiy\n",
      "Processing Record 48 of Set 2 | yellowknife\n",
      "Processing Record 49 of Set 2 | severo-kurilsk\n",
      "Processing Record 0 of Set 3 | kushima\n",
      "Processing Record 1 of Set 3 | hay river\n",
      "Processing Record 2 of Set 3 | cap malheureux\n",
      "Processing Record 3 of Set 3 | nieuw amsterdam\n",
      "Processing Record 4 of Set 3 | rikitea\n",
      "Processing Record 5 of Set 3 | cayenne\n",
      "Processing Record 6 of Set 3 | neiafu\n",
      "Processing Record 7 of Set 3 | castro\n",
      "Processing Record 8 of Set 3 | vaini\n",
      "Processing Record 9 of Set 3 | saint george\n",
      "Processing Record 10 of Set 3 | vadso\n",
      "Processing Record 11 of Set 3 | mehamn\n",
      "Processing Record 12 of Set 3 | batagay-alyta\n",
      "Processing Record 13 of Set 3 | barra\n",
      "Processing Record 14 of Set 3 | palabuhanratu\n",
      "City not found. Skipping...\n",
      "Processing Record 15 of Set 3 | arraial do cabo\n",
      "Processing Record 16 of Set 3 | hasaki\n",
      "Processing Record 17 of Set 3 | saint-pierre\n",
      "Processing Record 18 of Set 3 | zvenyhorodka\n",
      "Processing Record 19 of Set 3 | atherton\n",
      "Processing Record 20 of Set 3 | cape town\n",
      "Processing Record 21 of Set 3 | port-gentil\n",
      "Processing Record 22 of Set 3 | kruisfontein\n",
      "Processing Record 23 of Set 3 | turiacu\n",
      "Processing Record 24 of Set 3 | kavieng\n",
      "Processing Record 25 of Set 3 | aleksandrovka\n",
      "Processing Record 26 of Set 3 | yefimovskiy\n",
      "City not found. Skipping...\n",
      "Processing Record 27 of Set 3 | mrirt\n",
      "City not found. Skipping...\n",
      "Processing Record 28 of Set 3 | nantucket\n",
      "Processing Record 29 of Set 3 | belushya guba\n",
      "City not found. Skipping...\n",
      "Processing Record 30 of Set 3 | bilibino\n",
      "Processing Record 31 of Set 3 | hunza\n",
      "City not found. Skipping...\n",
      "Processing Record 32 of Set 3 | osvaldo cruz\n",
      "Processing Record 33 of Set 3 | nambucca heads\n",
      "Processing Record 34 of Set 3 | anadyr\n",
      "Processing Record 35 of Set 3 | pokhara\n",
      "Processing Record 36 of Set 3 | cabedelo\n",
      "Processing Record 37 of Set 3 | salalah\n",
      "Processing Record 38 of Set 3 | parnamirim\n",
      "Processing Record 39 of Set 3 | mosquera\n",
      "Processing Record 40 of Set 3 | norman wells\n",
      "Processing Record 41 of Set 3 | sokolo\n",
      "Processing Record 42 of Set 3 | clyde river\n",
      "Processing Record 43 of Set 3 | luderitz\n",
      "Processing Record 44 of Set 3 | leshukonskoye\n",
      "Processing Record 45 of Set 3 | jizan\n",
      "Processing Record 46 of Set 3 | kaeo\n",
      "Processing Record 47 of Set 3 | carnarvon\n",
      "Processing Record 48 of Set 3 | sola\n",
      "Processing Record 49 of Set 3 | avarua\n",
      "Processing Record 0 of Set 4 | ponoka\n",
      "Processing Record 1 of Set 4 | ribeira grande\n",
      "Processing Record 2 of Set 4 | quatre cocos\n",
      "Processing Record 3 of Set 4 | puerto leguizamo\n",
      "Processing Record 4 of Set 4 | arosa\n",
      "Processing Record 5 of Set 4 | paralimni\n",
      "Processing Record 6 of Set 4 | poum\n",
      "Processing Record 7 of Set 4 | beringovskiy\n",
      "Processing Record 8 of Set 4 | tevriz\n",
      "Processing Record 9 of Set 4 | half moon bay\n",
      "Processing Record 10 of Set 4 | sitka\n",
      "Processing Record 11 of Set 4 | bluff\n",
      "Processing Record 12 of Set 4 | jucas\n",
      "Processing Record 13 of Set 4 | kodiak\n",
      "Processing Record 14 of Set 4 | marks\n",
      "Processing Record 15 of Set 4 | kuloy\n",
      "Processing Record 16 of Set 4 | fukue\n",
      "Processing Record 17 of Set 4 | misratah\n",
      "Processing Record 18 of Set 4 | nyurba\n",
      "Processing Record 19 of Set 4 | camalu\n",
      "Processing Record 20 of Set 4 | esperance\n",
      "Processing Record 21 of Set 4 | vanimo\n",
      "Processing Record 22 of Set 4 | wagar\n",
      "Processing Record 23 of Set 4 | namwala\n",
      "Processing Record 24 of Set 4 | kahului\n",
      "Processing Record 25 of Set 4 | gambiran\n",
      "Processing Record 26 of Set 4 | naberera\n",
      "Processing Record 27 of Set 4 | yulara\n",
      "Processing Record 28 of Set 4 | dikson\n",
      "Processing Record 29 of Set 4 | barentsburg\n",
      "City not found. Skipping...\n",
      "Processing Record 30 of Set 4 | jabiru\n",
      "City not found. Skipping...\n",
      "Processing Record 31 of Set 4 | sukumo\n",
      "Processing Record 32 of Set 4 | kolokani\n",
      "Processing Record 33 of Set 4 | marawi\n",
      "Processing Record 34 of Set 4 | selkirk\n",
      "Processing Record 35 of Set 4 | bandarbeyla\n"
     ]
    },
    {
     "name": "stdout",
     "output_type": "stream",
     "text": [
      "Processing Record 36 of Set 4 | paris\n",
      "Processing Record 37 of Set 4 | matara\n",
      "Processing Record 38 of Set 4 | san rafael\n",
      "Processing Record 39 of Set 4 | airai\n",
      "Processing Record 40 of Set 4 | pizarro\n",
      "Processing Record 41 of Set 4 | ishigaki\n",
      "Processing Record 42 of Set 4 | kaitangata\n",
      "Processing Record 43 of Set 4 | port alfred\n",
      "Processing Record 44 of Set 4 | attawapiskat\n",
      "City not found. Skipping...\n",
      "Processing Record 45 of Set 4 | hamilton\n",
      "Processing Record 46 of Set 4 | lata\n",
      "Processing Record 47 of Set 4 | nizhneangarsk\n",
      "Processing Record 48 of Set 4 | danane\n",
      "Processing Record 49 of Set 4 | adrar\n",
      "Processing Record 0 of Set 5 | saint-philippe\n",
      "Processing Record 1 of Set 5 | mersing\n",
      "Processing Record 2 of Set 5 | darab\n",
      "Processing Record 3 of Set 5 | esso\n",
      "Processing Record 4 of Set 5 | ambikapur\n",
      "Processing Record 5 of Set 5 | bossangoa\n",
      "Processing Record 6 of Set 5 | dhidhdhoo\n",
      "Processing Record 7 of Set 5 | zhigansk\n",
      "Processing Record 8 of Set 5 | burnie\n",
      "Processing Record 9 of Set 5 | coquimbo\n",
      "Processing Record 10 of Set 5 | simao\n",
      "Processing Record 11 of Set 5 | katete\n",
      "Processing Record 12 of Set 5 | vardo\n",
      "Processing Record 13 of Set 5 | conde\n",
      "Processing Record 14 of Set 5 | lompoc\n",
      "Processing Record 15 of Set 5 | torbay\n",
      "Processing Record 16 of Set 5 | flinders\n",
      "Processing Record 17 of Set 5 | palomares\n",
      "Processing Record 18 of Set 5 | erenhot\n",
      "Processing Record 19 of Set 5 | demyansk\n",
      "Processing Record 20 of Set 5 | jaque\n",
      "Processing Record 21 of Set 5 | morant bay\n",
      "Processing Record 22 of Set 5 | angoram\n",
      "Processing Record 23 of Set 5 | camacupa\n",
      "Processing Record 24 of Set 5 | samusu\n",
      "City not found. Skipping...\n",
      "Processing Record 25 of Set 5 | vincennes\n",
      "Processing Record 26 of Set 5 | solhan\n",
      "Processing Record 27 of Set 5 | shelburne\n",
      "Processing Record 28 of Set 5 | naryan-mar\n",
      "Processing Record 29 of Set 5 | oranjemund\n",
      "Processing Record 30 of Set 5 | srednekolymsk\n",
      "Processing Record 31 of Set 5 | apiai\n",
      "Processing Record 32 of Set 5 | bac can\n",
      "City not found. Skipping...\n",
      "Processing Record 33 of Set 5 | aklavik\n",
      "Processing Record 34 of Set 5 | hovd\n",
      "Processing Record 35 of Set 5 | cassilandia\n",
      "Processing Record 36 of Set 5 | jinchengjiang\n",
      "City not found. Skipping...\n",
      "Processing Record 37 of Set 5 | consolacion del sur\n",
      "Processing Record 38 of Set 5 | elat\n",
      "Processing Record 39 of Set 5 | karema\n",
      "Processing Record 40 of Set 5 | casper\n",
      "Processing Record 41 of Set 5 | sao filipe\n",
      "Processing Record 42 of Set 5 | nanortalik\n",
      "Processing Record 43 of Set 5 | takab\n",
      "Processing Record 44 of Set 5 | riyadh\n",
      "Processing Record 45 of Set 5 | tra vinh\n",
      "Processing Record 46 of Set 5 | avera\n",
      "Processing Record 47 of Set 5 | luwuk\n",
      "Processing Record 48 of Set 5 | birnin kebbi\n",
      "Processing Record 49 of Set 5 | caconda\n",
      "Processing Record 0 of Set 6 | san patricio\n",
      "Processing Record 1 of Set 6 | boa vista\n",
      "Processing Record 2 of Set 6 | chokurdakh\n",
      "Processing Record 3 of Set 6 | maxixe\n",
      "Processing Record 4 of Set 6 | marsh harbour\n",
      "Processing Record 5 of Set 6 | moron\n",
      "Processing Record 6 of Set 6 | lorengau\n",
      "Processing Record 7 of Set 6 | awbari\n",
      "Processing Record 8 of Set 6 | namatanai\n",
      "Processing Record 9 of Set 6 | west wendover\n",
      "Processing Record 10 of Set 6 | nhulunbuy\n",
      "Processing Record 11 of Set 6 | krasnyy chikoy\n",
      "Processing Record 12 of Set 6 | tres palos\n",
      "Processing Record 13 of Set 6 | mys shmidta\n",
      "City not found. Skipping...\n",
      "Processing Record 14 of Set 6 | asfi\n",
      "Processing Record 15 of Set 6 | filiatra\n",
      "Processing Record 16 of Set 6 | tunduru\n",
      "City not found. Skipping...\n",
      "Processing Record 17 of Set 6 | dalen\n",
      "Processing Record 18 of Set 6 | basco\n",
      "Processing Record 19 of Set 6 | alta gracia\n",
      "Processing Record 20 of Set 6 | tocopilla\n",
      "Processing Record 21 of Set 6 | okhotsk\n",
      "Processing Record 22 of Set 6 | ruza\n",
      "Processing Record 23 of Set 6 | korla\n",
      "Processing Record 24 of Set 6 | mirnyy\n",
      "Processing Record 25 of Set 6 | rungata\n",
      "City not found. Skipping...\n",
      "Processing Record 26 of Set 6 | sentyabrskiy\n",
      "City not found. Skipping...\n",
      "Processing Record 27 of Set 6 | bosaso\n",
      "Processing Record 28 of Set 6 | tiksi\n",
      "Processing Record 29 of Set 6 | urumqi\n",
      "Processing Record 30 of Set 6 | baruun-urt\n",
      "Processing Record 31 of Set 6 | namibe\n",
      "Processing Record 32 of Set 6 | wyszkow\n",
      "Processing Record 33 of Set 6 | novopskov\n",
      "Processing Record 34 of Set 6 | gainesville\n",
      "Processing Record 35 of Set 6 | peniche\n",
      "Processing Record 36 of Set 6 | barbar\n",
      "City not found. Skipping...\n",
      "Processing Record 37 of Set 6 | malwan\n",
      "City not found. Skipping...\n",
      "Processing Record 38 of Set 6 | benito juarez\n",
      "Processing Record 39 of Set 6 | lebu\n",
      "Processing Record 40 of Set 6 | san quintin\n",
      "Processing Record 41 of Set 6 | katsuura\n",
      "Processing Record 42 of Set 6 | bukama\n",
      "Processing Record 43 of Set 6 | carrollton\n",
      "Processing Record 44 of Set 6 | klaksvik\n",
      "Processing Record 45 of Set 6 | north bend\n",
      "Processing Record 46 of Set 6 | armacao dos buzios\n",
      "City not found. Skipping...\n",
      "Processing Record 47 of Set 6 | kuching\n",
      "Processing Record 48 of Set 6 | pegnitz\n",
      "Processing Record 49 of Set 6 | shinpokh\n",
      "Processing Record 0 of Set 7 | krasnomayskiy\n",
      "Processing Record 1 of Set 7 | hervey bay\n",
      "Processing Record 2 of Set 7 | vostok\n",
      "Processing Record 3 of Set 7 | ginir\n",
      "Processing Record 4 of Set 7 | naze\n",
      "Processing Record 5 of Set 7 | zima\n",
      "Processing Record 6 of Set 7 | tuatapere\n",
      "Processing Record 7 of Set 7 | kropotkin\n",
      "Processing Record 8 of Set 7 | eskasem\n",
      "City not found. Skipping...\n",
      "Processing Record 9 of Set 7 | faanui\n",
      "Processing Record 10 of Set 7 | nam dinh\n",
      "Processing Record 11 of Set 7 | tsienyane\n",
      "City not found. Skipping...\n",
      "Processing Record 12 of Set 7 | necochea\n",
      "Processing Record 13 of Set 7 | acapulco\n",
      "Processing Record 14 of Set 7 | mayo\n",
      "Processing Record 15 of Set 7 | sinnamary\n",
      "Processing Record 16 of Set 7 | boende\n",
      "Processing Record 17 of Set 7 | dingle\n",
      "Processing Record 18 of Set 7 | dudinka\n",
      "Processing Record 19 of Set 7 | yarmouth\n",
      "Processing Record 20 of Set 7 | gien\n",
      "Processing Record 21 of Set 7 | mandera\n",
      "Processing Record 22 of Set 7 | macaboboni\n",
      "City not found. Skipping...\n",
      "Processing Record 23 of Set 7 | talobatib\n",
      "City not found. Skipping...\n",
      "Processing Record 24 of Set 7 | narsaq\n",
      "Processing Record 25 of Set 7 | umzimvubu\n",
      "City not found. Skipping...\n",
      "Processing Record 26 of Set 7 | armidale\n",
      "Processing Record 27 of Set 7 | mar del plata\n",
      "Processing Record 28 of Set 7 | tongchuan\n",
      "Processing Record 29 of Set 7 | kushiro\n",
      "Processing Record 30 of Set 7 | nkayi\n",
      "Processing Record 31 of Set 7 | maple creek\n",
      "Processing Record 32 of Set 7 | tumannyy\n",
      "City not found. Skipping...\n",
      "Processing Record 33 of Set 7 | tsihombe\n",
      "City not found. Skipping...\n",
      "Processing Record 34 of Set 7 | ancud\n",
      "Processing Record 35 of Set 7 | chimoio\n",
      "Processing Record 36 of Set 7 | indi\n",
      "Processing Record 37 of Set 7 | sao felix do xingu\n",
      "Processing Record 38 of Set 7 | rawson\n",
      "Processing Record 39 of Set 7 | mahebourg\n",
      "Processing Record 40 of Set 7 | kita\n",
      "Processing Record 41 of Set 7 | saint-joseph\n",
      "Processing Record 42 of Set 7 | nohar\n",
      "Processing Record 43 of Set 7 | ankang\n",
      "Processing Record 44 of Set 7 | zykovo\n",
      "Processing Record 45 of Set 7 | tiarei\n",
      "Processing Record 46 of Set 7 | kenai\n",
      "Processing Record 47 of Set 7 | lincoln\n",
      "Processing Record 48 of Set 7 | kijang\n",
      "Processing Record 49 of Set 7 | mahajanga\n",
      "Processing Record 0 of Set 8 | port macquarie\n",
      "Processing Record 1 of Set 8 | tsabong\n",
      "Processing Record 2 of Set 8 | tasiilaq\n",
      "Processing Record 3 of Set 8 | santa rosa\n",
      "Processing Record 4 of Set 8 | chagda\n",
      "City not found. Skipping...\n",
      "Processing Record 5 of Set 8 | babanusah\n",
      "City not found. Skipping...\n",
      "Processing Record 6 of Set 8 | nassjo\n",
      "Processing Record 7 of Set 8 | ucluelet\n",
      "Processing Record 8 of Set 8 | bac lieu\n",
      "Processing Record 9 of Set 8 | herat\n",
      "Processing Record 10 of Set 8 | souillac\n",
      "Processing Record 11 of Set 8 | san lawrenz\n",
      "Processing Record 12 of Set 8 | houma\n",
      "Processing Record 13 of Set 8 | bowen\n",
      "Processing Record 14 of Set 8 | te anau\n",
      "Processing Record 15 of Set 8 | trat\n",
      "Processing Record 16 of Set 8 | havre-saint-pierre\n",
      "Processing Record 17 of Set 8 | nikel\n",
      "Processing Record 18 of Set 8 | boyolangu\n",
      "Processing Record 19 of Set 8 | haibowan\n",
      "City not found. Skipping...\n",
      "Processing Record 20 of Set 8 | fort nelson\n",
      "Processing Record 21 of Set 8 | inhambane\n",
      "Processing Record 22 of Set 8 | davila\n",
      "Processing Record 23 of Set 8 | ahuimanu\n"
     ]
    },
    {
     "name": "stdout",
     "output_type": "stream",
     "text": [
      "Processing Record 24 of Set 8 | vila velha\n",
      "Processing Record 25 of Set 8 | tahoua\n",
      "Processing Record 26 of Set 8 | dandong\n",
      "Processing Record 27 of Set 8 | qaqortoq\n",
      "Processing Record 28 of Set 8 | praia\n",
      "Processing Record 29 of Set 8 | tracy\n",
      "Processing Record 30 of Set 8 | manassas\n",
      "Processing Record 31 of Set 8 | havoysund\n",
      "Processing Record 32 of Set 8 | khorramabad\n",
      "Processing Record 33 of Set 8 | vangaindrano\n",
      "Processing Record 34 of Set 8 | lahan\n",
      "Processing Record 35 of Set 8 | vila\n",
      "Processing Record 36 of Set 8 | klamath falls\n",
      "Processing Record 37 of Set 8 | micheweni\n",
      "Processing Record 38 of Set 8 | ulaangom\n",
      "Processing Record 39 of Set 8 | allanmyo\n",
      "City not found. Skipping...\n",
      "Processing Record 40 of Set 8 | muros\n",
      "Processing Record 41 of Set 8 | diego de almagro\n",
      "Processing Record 42 of Set 8 | waw\n",
      "Processing Record 43 of Set 8 | kurtamysh\n",
      "Processing Record 44 of Set 8 | myatlevo\n",
      "Processing Record 45 of Set 8 | bellevue\n",
      "Processing Record 46 of Set 8 | grindavik\n",
      "Processing Record 47 of Set 8 | santa ana\n",
      "Processing Record 48 of Set 8 | beloha\n",
      "Processing Record 49 of Set 8 | vanavara\n",
      "Processing Record 0 of Set 9 | ahtopol\n",
      "Processing Record 1 of Set 9 | hibbing\n",
      "Processing Record 2 of Set 9 | bulgan\n",
      "Processing Record 3 of Set 9 | rundu\n",
      "Processing Record 4 of Set 9 | cherskiy\n",
      "Processing Record 5 of Set 9 | hami\n",
      "Processing Record 6 of Set 9 | maumere\n",
      "Processing Record 7 of Set 9 | rio gallegos\n",
      "Processing Record 8 of Set 9 | mormugao\n",
      "Processing Record 9 of Set 9 | boddam\n",
      "Processing Record 10 of Set 9 | longyearbyen\n",
      "Processing Record 11 of Set 9 | santo antonio do sudoeste\n",
      "Processing Record 12 of Set 9 | vaitupu\n",
      "City not found. Skipping...\n",
      "Processing Record 13 of Set 9 | shkotovo-26\n",
      "City not found. Skipping...\n",
      "Processing Record 14 of Set 9 | ambilobe\n",
      "Processing Record 15 of Set 9 | hobyo\n",
      "Processing Record 16 of Set 9 | alizai\n",
      "Processing Record 17 of Set 9 | ada\n",
      "Processing Record 18 of Set 9 | melton\n",
      "Processing Record 19 of Set 9 | jalu\n",
      "Processing Record 20 of Set 9 | saint-louis\n",
      "Processing Record 21 of Set 9 | hlotse\n",
      "Processing Record 22 of Set 9 | bonthe\n",
      "Processing Record 23 of Set 9 | moose factory\n",
      "Processing Record 24 of Set 9 | lolua\n",
      "City not found. Skipping...\n",
      "Processing Record 25 of Set 9 | lehigh acres\n",
      "Processing Record 26 of Set 9 | monte santo\n",
      "Processing Record 27 of Set 9 | nioro\n",
      "Processing Record 28 of Set 9 | chapais\n",
      "Processing Record 29 of Set 9 | tahe\n",
      "Processing Record 30 of Set 9 | pekan\n",
      "Processing Record 31 of Set 9 | kupang\n",
      "Processing Record 32 of Set 9 | knokke-heist\n",
      "Processing Record 33 of Set 9 | kapoeta\n",
      "Processing Record 34 of Set 9 | labutta\n",
      "City not found. Skipping...\n",
      "Processing Record 35 of Set 9 | mamallapuram\n",
      "Processing Record 36 of Set 9 | dapaong\n",
      "Processing Record 37 of Set 9 | crab hill\n",
      "City not found. Skipping...\n",
      "Processing Record 38 of Set 9 | amapa\n",
      "Processing Record 39 of Set 9 | mercedes\n",
      "Processing Record 40 of Set 9 | kirovskiy\n",
      "Processing Record 41 of Set 9 | thessalon\n",
      "Processing Record 42 of Set 9 | buariki\n",
      "City not found. Skipping...\n",
      "Processing Record 43 of Set 9 | camopi\n",
      "Processing Record 44 of Set 9 | iqaluit\n",
      "Processing Record 45 of Set 9 | buala\n",
      "Processing Record 46 of Set 9 | acari\n",
      "Processing Record 47 of Set 9 | shangzhi\n",
      "Processing Record 48 of Set 9 | polunochnoye\n",
      "Processing Record 49 of Set 9 | dryden\n",
      "Processing Record 0 of Set 10 | nokaneng\n",
      "Processing Record 1 of Set 10 | kendari\n",
      "Processing Record 2 of Set 10 | mesker-yurt\n",
      "Processing Record 3 of Set 10 | pingxiang\n",
      "Processing Record 4 of Set 10 | zaysan\n",
      "Processing Record 5 of Set 10 | suhbaatar\n",
      "Processing Record 6 of Set 10 | sur\n",
      "Processing Record 7 of Set 10 | bubaque\n",
      "Processing Record 8 of Set 10 | taloqan\n",
      "Processing Record 9 of Set 10 | borgarnes\n",
      "Processing Record 10 of Set 10 | isangel\n",
      "Processing Record 11 of Set 10 | along\n",
      "Processing Record 12 of Set 10 | ixtapa\n",
      "Processing Record 13 of Set 10 | aswan\n",
      "Processing Record 14 of Set 10 | pafos\n",
      "Processing Record 15 of Set 10 | sterling\n",
      "Processing Record 16 of Set 10 | kerouane\n",
      "Processing Record 17 of Set 10 | sim\n",
      "Processing Record 18 of Set 10 | roald\n",
      "Processing Record 19 of Set 10 | sibolga\n",
      "Processing Record 20 of Set 10 | regidor\n",
      "Processing Record 21 of Set 10 | griffith\n",
      "Processing Record 22 of Set 10 | saint anthony\n",
      "Processing Record 23 of Set 10 | sao joao do paraiso\n",
      "Processing Record 24 of Set 10 | hualmay\n",
      "Processing Record 25 of Set 10 | finschhafen\n",
      "Processing Record 26 of Set 10 | letlhakane\n",
      "Processing Record 27 of Set 10 | karkaralinsk\n",
      "City not found. Skipping...\n",
      "Processing Record 28 of Set 10 | cruzeiro do sul\n",
      "Processing Record 29 of Set 10 | laon\n",
      "Processing Record 30 of Set 10 | morris\n",
      "Processing Record 31 of Set 10 | aksarka\n",
      "Processing Record 32 of Set 10 | la plata\n",
      "Processing Record 33 of Set 10 | ostersund\n",
      "Processing Record 34 of Set 10 | zharkent\n",
      "Processing Record 35 of Set 10 | sroda wielkopolska\n",
      "Processing Record 36 of Set 10 | garowe\n",
      "Processing Record 37 of Set 10 | los llanos de aridane\n",
      "Processing Record 38 of Set 10 | pisco\n",
      "Processing Record 39 of Set 10 | vasai\n",
      "Processing Record 40 of Set 10 | saldanha\n",
      "Processing Record 41 of Set 10 | entre rios\n",
      "Processing Record 42 of Set 10 | bam\n",
      "Processing Record 43 of Set 10 | carutapera\n",
      "Processing Record 44 of Set 10 | goderich\n",
      "Processing Record 45 of Set 10 | natal\n",
      "Processing Record 46 of Set 10 | haines junction\n",
      "Processing Record 47 of Set 10 | lake cowichan\n",
      "Processing Record 48 of Set 10 | falealupo\n",
      "City not found. Skipping...\n",
      "Processing Record 49 of Set 10 | kununurra\n",
      "Processing Record 0 of Set 11 | byron bay\n",
      "Processing Record 1 of Set 11 | belaya gora\n",
      "Processing Record 2 of Set 11 | ulverstone\n",
      "Processing Record 3 of Set 11 | nguiu\n",
      "City not found. Skipping...\n",
      "Processing Record 4 of Set 11 | lima\n",
      "Processing Record 5 of Set 11 | temerloh\n",
      "Processing Record 6 of Set 11 | egvekinot\n",
      "Processing Record 7 of Set 11 | temaraia\n",
      "City not found. Skipping...\n",
      "Processing Record 8 of Set 11 | umm lajj\n",
      "Processing Record 9 of Set 11 | yar-sale\n",
      "Processing Record 10 of Set 11 | ceres\n",
      "Processing Record 11 of Set 11 | alofi\n",
      "Processing Record 12 of Set 11 | formosa\n",
      "Processing Record 13 of Set 11 | dvinskoy\n",
      "Processing Record 14 of Set 11 | akureyri\n",
      "Processing Record 15 of Set 11 | meulaboh\n",
      "Processing Record 16 of Set 11 | shimoda\n",
      "Processing Record 17 of Set 11 | padang\n",
      "Processing Record 18 of Set 11 | alibag\n",
      "Processing Record 19 of Set 11 | khakurinokhabl\n",
      "Processing Record 20 of Set 11 | flin flon\n",
      "Processing Record 21 of Set 11 | barra do corda\n",
      "Processing Record 22 of Set 11 | pangody\n",
      "Processing Record 23 of Set 11 | manyana\n",
      "Processing Record 24 of Set 11 | velykyy burluk\n",
      "Processing Record 25 of Set 11 | carman\n",
      "Processing Record 26 of Set 11 | otradnyy\n",
      "Processing Record 27 of Set 11 | koslan\n",
      "Processing Record 28 of Set 11 | leningradskiy\n",
      "Processing Record 29 of Set 11 | wattegama\n",
      "Processing Record 30 of Set 11 | naron\n",
      "Processing Record 31 of Set 11 | phaltan\n",
      "Processing Record 32 of Set 11 | paramonga\n",
      "Processing Record 33 of Set 11 | mergui\n",
      "City not found. Skipping...\n",
      "Processing Record 34 of Set 11 | veraval\n",
      "Processing Record 35 of Set 11 | heinola\n",
      "Processing Record 36 of Set 11 | general roca\n",
      "Processing Record 37 of Set 11 | tarragona\n",
      "Processing Record 38 of Set 11 | olafsvik\n",
      "Processing Record 39 of Set 11 | la ronge\n",
      "Processing Record 40 of Set 11 | sibu\n",
      "Processing Record 41 of Set 11 | westport\n",
      "Processing Record 42 of Set 11 | kibondo\n",
      "Processing Record 43 of Set 11 | xining\n",
      "Processing Record 44 of Set 11 | zhangjiakou\n",
      "Processing Record 45 of Set 11 | mana\n",
      "Processing Record 46 of Set 11 | guane\n",
      "Processing Record 47 of Set 11 | myingyan\n",
      "Processing Record 48 of Set 11 | kosh-agach\n",
      "Processing Record 49 of Set 11 | yazman\n",
      "Processing Record 0 of Set 12 | itaueira\n",
      "Processing Record 1 of Set 12 | vilya\n",
      "Processing Record 2 of Set 12 | manado\n",
      "Processing Record 3 of Set 12 | bad langensalza\n",
      "Processing Record 4 of Set 12 | baykit\n",
      "Processing Record 5 of Set 12 | vilyuysk\n",
      "Processing Record 6 of Set 12 | tres arroyos\n",
      "Processing Record 7 of Set 12 | usevya\n",
      "Processing Record 8 of Set 12 | kenora\n",
      "Processing Record 9 of Set 12 | victoria\n",
      "Processing Record 10 of Set 12 | wanning\n",
      "Processing Record 11 of Set 12 | shache\n",
      "Processing Record 12 of Set 12 | khuzhir\n",
      "Processing Record 13 of Set 12 | roros\n"
     ]
    },
    {
     "name": "stdout",
     "output_type": "stream",
     "text": [
      "Processing Record 14 of Set 12 | bognor regis\n",
      "Processing Record 15 of Set 12 | nisia floresta\n",
      "Processing Record 16 of Set 12 | sindor\n",
      "Processing Record 17 of Set 12 | abha\n",
      "Processing Record 18 of Set 12 | newtownards\n",
      "Processing Record 19 of Set 12 | moskovskiy\n",
      "Processing Record 20 of Set 12 | bombay\n",
      "Processing Record 21 of Set 12 | masuguru\n",
      "Processing Record 22 of Set 12 | gornopravdinsk\n",
      "Processing Record 23 of Set 12 | sorland\n",
      "Processing Record 24 of Set 12 | mae sai\n",
      "Processing Record 25 of Set 12 | aripuana\n",
      "Processing Record 26 of Set 12 | kavaratti\n",
      "Processing Record 27 of Set 12 | castelo do piaui\n",
      "Processing Record 28 of Set 12 | rangapara\n",
      "Processing Record 29 of Set 12 | honningsvag\n",
      "Processing Record 30 of Set 12 | sanjwal\n",
      "Processing Record 31 of Set 12 | hofn\n",
      "Processing Record 32 of Set 12 | tikhvin\n",
      "Processing Record 33 of Set 12 | tazovskiy\n",
      "Processing Record 34 of Set 12 | monroe\n",
      "Processing Record 35 of Set 12 | kitimat\n",
      "Processing Record 36 of Set 12 | andahuaylas\n",
      "Processing Record 37 of Set 12 | vikindu\n",
      "Processing Record 38 of Set 12 | komsomolskiy\n",
      "Processing Record 39 of Set 12 | betong\n",
      "Processing Record 40 of Set 12 | bahia blanca\n",
      "Processing Record 41 of Set 12 | pfullendorf\n",
      "Processing Record 42 of Set 12 | loiza\n",
      "Processing Record 43 of Set 12 | hailey\n",
      "Processing Record 44 of Set 12 | goldsboro\n",
      "Processing Record 45 of Set 12 | kasongo\n",
      "Processing Record 46 of Set 12 | almeirim\n",
      "Processing Record 47 of Set 12 | saint-francois\n",
      "Processing Record 48 of Set 12 | pochutla\n",
      "Processing Record 49 of Set 12 | alyangula\n",
      "Processing Record 0 of Set 13 | paveh\n",
      "Processing Record 1 of Set 13 | asyut\n",
      "Processing Record 2 of Set 13 | kargil\n",
      "Processing Record 3 of Set 13 | cabo san lucas\n",
      "Processing Record 4 of Set 13 | jilin\n",
      "Processing Record 5 of Set 13 | inuvik\n",
      "Processing Record 6 of Set 13 | cidreira\n",
      "Processing Record 7 of Set 13 | camacha\n",
      "Processing Record 8 of Set 13 | havelock\n",
      "Processing Record 9 of Set 13 | vilhena\n",
      "Processing Record 10 of Set 13 | marneuli\n",
      "Processing Record 11 of Set 13 | plettenberg bay\n",
      "Processing Record 12 of Set 13 | borovoy\n",
      "Processing Record 13 of Set 13 | sao joao da barra\n",
      "Processing Record 14 of Set 13 | ouadda\n",
      "Processing Record 15 of Set 13 | hammerfest\n",
      "Processing Record 16 of Set 13 | mungeli\n",
      "Processing Record 17 of Set 13 | laguna\n",
      "Processing Record 18 of Set 13 | khonuu\n",
      "City not found. Skipping...\n",
      "Processing Record 19 of Set 13 | gabu\n",
      "Processing Record 20 of Set 13 | caravelas\n",
      "Processing Record 21 of Set 13 | juneau\n",
      "Processing Record 22 of Set 13 | kashi\n",
      "Processing Record 23 of Set 13 | mount isa\n",
      "Processing Record 24 of Set 13 | solnechnyy\n",
      "-----------------------------\n",
      "Data Retrieval Complete      \n",
      "-----------------------------\n"
     ]
    }
   ],
   "source": [
    "# Set the API base URL\n",
    "url = \"http://api.openweathermap.org/data/2.5/weather?\"\n",
    "units=\"imperial\"\n",
    "\n",
    "# Define an empty list to fetch the weather data for each city\n",
    "city_data = []\n",
    "\n",
    "# Print to logger\n",
    "print(\"Beginning Data Retrieval     \")\n",
    "print(\"-----------------------------\")\n",
    "\n",
    "# Create counters\n",
    "record_count = 1\n",
    "set_count = 1\n",
    "\n",
    "# Loop through all the cities in our list to fetch weather data\n",
    "for i, city in enumerate(cities):\n",
    "        \n",
    "    # Group cities in sets of 50 for logging purposes\n",
    "    if (i % 50 == 0 and i >= 50):\n",
    "        set_count += 1\n",
    "        record_count = 0\n",
    "\n",
    "    # Create endpoint URL with each city\n",
    "    city_url = f\"{url}appid={weather_api_key}&units={units}&q=\"\n",
    "    \n",
    "    # Log the url, record, and set numbers\n",
    "    print(\"Processing Record %s of Set %s | %s\" % (record_count, set_count, city))\n",
    "\n",
    "    # Add 1 to the record count\n",
    "    record_count += 1\n",
    "\n",
    "    # Run an API request for each of the cities\n",
    "    try:\n",
    "        # Parse the JSON and retrieve data\n",
    "        city_weather = requests.get(city_url+city).json()\n",
    "\n",
    "        # Parse out latitude, longitude, max temp, humidity, cloudiness, wind speed, country, and date\n",
    "        city_lat = city_weather[\"coord\"][\"lat\"]\n",
    "        city_lng = city_weather[\"coord\"][\"lon\"]\n",
    "        city_max_temp = city_weather[\"main\"]['temp_max']\n",
    "        city_humidity = city_weather[\"main\"][\"humidity\"]\n",
    "        city_clouds = city_weather[\"clouds\"]['all']\n",
    "        city_wind = city_weather[\"wind\"]['speed']\n",
    "        city_country = city_weather[\"sys\"][\"country\"]\n",
    "        city_date = city_weather['dt']\n",
    "\n",
    "        # Append the City information into city_data list\n",
    "        city_data.append({\"City\": city, \n",
    "                          \"Lat\": city_lat, \n",
    "                          \"Lon\": city_lng, \n",
    "                          \"Max Temp\": city_max_temp,\n",
    "                          \"Humidity\": city_humidity,\n",
    "                          \"Cloudiness\": city_clouds,\n",
    "                          \"Wind Speed\": city_wind,\n",
    "                          \"Country\": city_country,\n",
    "                          \"Date\": city_date})\n",
    "\n",
    "    # If an error is experienced, skip the city\n",
    "    except:\n",
    "        print(\"City not found. Skipping...\")\n",
    "        pass\n",
    "              \n",
    "# Indicate that Data Loading is complete \n",
    "print(\"-----------------------------\")\n",
    "print(\"Data Retrieval Complete      \")\n",
    "print(\"-----------------------------\")"
   ]
  },
  {
   "cell_type": "markdown",
   "metadata": {},
   "source": [
    "# WeatherPy\n",
    "\n",
    "---\n",
    "\n",
    "## Starter Code to Generate Random Geographic Coordinates and a List of Cities"
   ]
  },
  {
   "cell_type": "code",
   "execution_count": 7,
   "metadata": {},
   "outputs": [
    {
     "data": {
      "text/plain": [
       "City          575\n",
       "Lat           575\n",
       "Lon           575\n",
       "Max Temp      575\n",
       "Humidity      575\n",
       "Cloudiness    575\n",
       "Wind Speed    575\n",
       "Country       575\n",
       "Date          575\n",
       "dtype: int64"
      ]
     },
     "execution_count": 7,
     "metadata": {},
     "output_type": "execute_result"
    }
   ],
   "source": [
    "# Convert the cities weather data into a Pandas DataFrame\n",
    "#city_data_df =pd.DataFrame({\"City\":city, \"Lat\":city_lat, \"Lng\": city_lng, \"Max Temp\":city_max_temp, \"Humidity\": city_humidity,\"Cloudiness\": city_clouds, \"Wind Speed\": city_wind, \"Country\":city_country, \"Date\":city_date })\n",
    "city_data_df=pd.DataFrame(city_data, columns=[\"City\", \"Lat\", \"Lon\", \"Max Temp\", \"Humidity\", \"Cloudiness\", \"Wind Speed\", \"Country\", \"Date\"])\n",
    "# Show Record Count\n",
    "city_data_df.count()"
   ]
  },
  {
   "cell_type": "code",
   "execution_count": 8,
   "metadata": {},
   "outputs": [
    {
     "data": {
      "text/html": [
       "<div>\n",
       "<style scoped>\n",
       "    .dataframe tbody tr th:only-of-type {\n",
       "        vertical-align: middle;\n",
       "    }\n",
       "\n",
       "    .dataframe tbody tr th {\n",
       "        vertical-align: top;\n",
       "    }\n",
       "\n",
       "    .dataframe thead th {\n",
       "        text-align: right;\n",
       "    }\n",
       "</style>\n",
       "<table border=\"1\" class=\"dataframe\">\n",
       "  <thead>\n",
       "    <tr style=\"text-align: right;\">\n",
       "      <th></th>\n",
       "      <th>City</th>\n",
       "      <th>Lat</th>\n",
       "      <th>Lon</th>\n",
       "      <th>Max Temp</th>\n",
       "      <th>Humidity</th>\n",
       "      <th>Cloudiness</th>\n",
       "      <th>Wind Speed</th>\n",
       "      <th>Country</th>\n",
       "      <th>Date</th>\n",
       "    </tr>\n",
       "  </thead>\n",
       "  <tbody>\n",
       "    <tr>\n",
       "      <th>0</th>\n",
       "      <td>vila franca do campo</td>\n",
       "      <td>37.7167</td>\n",
       "      <td>-25.4333</td>\n",
       "      <td>72.19</td>\n",
       "      <td>86</td>\n",
       "      <td>18</td>\n",
       "      <td>8.84</td>\n",
       "      <td>PT</td>\n",
       "      <td>1667565513</td>\n",
       "    </tr>\n",
       "    <tr>\n",
       "      <th>1</th>\n",
       "      <td>kapaa</td>\n",
       "      <td>22.0752</td>\n",
       "      <td>-159.3190</td>\n",
       "      <td>79.12</td>\n",
       "      <td>84</td>\n",
       "      <td>100</td>\n",
       "      <td>11.50</td>\n",
       "      <td>US</td>\n",
       "      <td>1667565513</td>\n",
       "    </tr>\n",
       "    <tr>\n",
       "      <th>2</th>\n",
       "      <td>punta arenas</td>\n",
       "      <td>-53.1500</td>\n",
       "      <td>-70.9167</td>\n",
       "      <td>57.22</td>\n",
       "      <td>71</td>\n",
       "      <td>75</td>\n",
       "      <td>6.91</td>\n",
       "      <td>CL</td>\n",
       "      <td>1667565514</td>\n",
       "    </tr>\n",
       "    <tr>\n",
       "      <th>3</th>\n",
       "      <td>ilulissat</td>\n",
       "      <td>69.2167</td>\n",
       "      <td>-51.1000</td>\n",
       "      <td>28.42</td>\n",
       "      <td>69</td>\n",
       "      <td>75</td>\n",
       "      <td>0.00</td>\n",
       "      <td>GL</td>\n",
       "      <td>1667565514</td>\n",
       "    </tr>\n",
       "    <tr>\n",
       "      <th>4</th>\n",
       "      <td>ushuaia</td>\n",
       "      <td>-54.8000</td>\n",
       "      <td>-68.3000</td>\n",
       "      <td>47.86</td>\n",
       "      <td>76</td>\n",
       "      <td>75</td>\n",
       "      <td>23.02</td>\n",
       "      <td>AR</td>\n",
       "      <td>1667565515</td>\n",
       "    </tr>\n",
       "  </tbody>\n",
       "</table>\n",
       "</div>"
      ],
      "text/plain": [
       "                   City      Lat       Lon  Max Temp  Humidity  Cloudiness  \\\n",
       "0  vila franca do campo  37.7167  -25.4333     72.19        86          18   \n",
       "1                 kapaa  22.0752 -159.3190     79.12        84         100   \n",
       "2          punta arenas -53.1500  -70.9167     57.22        71          75   \n",
       "3             ilulissat  69.2167  -51.1000     28.42        69          75   \n",
       "4               ushuaia -54.8000  -68.3000     47.86        76          75   \n",
       "\n",
       "   Wind Speed Country        Date  \n",
       "0        8.84      PT  1667565513  \n",
       "1       11.50      US  1667565513  \n",
       "2        6.91      CL  1667565514  \n",
       "3        0.00      GL  1667565514  \n",
       "4       23.02      AR  1667565515  "
      ]
     },
     "execution_count": 8,
     "metadata": {},
     "output_type": "execute_result"
    }
   ],
   "source": [
    "# Display sample data\n",
    "city_data_df.head()"
   ]
  },
  {
   "cell_type": "code",
   "execution_count": 9,
   "metadata": {},
   "outputs": [],
   "source": [
    "# Export the City_Data into a csv\n",
    "city_data_df.to_csv(\"output_data/cities.csv\", index_label=\"City_ID\")"
   ]
  },
  {
   "cell_type": "code",
   "execution_count": 10,
   "metadata": {},
   "outputs": [
    {
     "data": {
      "text/html": [
       "<div>\n",
       "<style scoped>\n",
       "    .dataframe tbody tr th:only-of-type {\n",
       "        vertical-align: middle;\n",
       "    }\n",
       "\n",
       "    .dataframe tbody tr th {\n",
       "        vertical-align: top;\n",
       "    }\n",
       "\n",
       "    .dataframe thead th {\n",
       "        text-align: right;\n",
       "    }\n",
       "</style>\n",
       "<table border=\"1\" class=\"dataframe\">\n",
       "  <thead>\n",
       "    <tr style=\"text-align: right;\">\n",
       "      <th></th>\n",
       "      <th>City</th>\n",
       "      <th>Lat</th>\n",
       "      <th>Lon</th>\n",
       "      <th>Max Temp</th>\n",
       "      <th>Humidity</th>\n",
       "      <th>Cloudiness</th>\n",
       "      <th>Wind Speed</th>\n",
       "      <th>Country</th>\n",
       "      <th>Date</th>\n",
       "    </tr>\n",
       "    <tr>\n",
       "      <th>City_ID</th>\n",
       "      <th></th>\n",
       "      <th></th>\n",
       "      <th></th>\n",
       "      <th></th>\n",
       "      <th></th>\n",
       "      <th></th>\n",
       "      <th></th>\n",
       "      <th></th>\n",
       "      <th></th>\n",
       "    </tr>\n",
       "  </thead>\n",
       "  <tbody>\n",
       "    <tr>\n",
       "      <th>0</th>\n",
       "      <td>vila franca do campo</td>\n",
       "      <td>37.7167</td>\n",
       "      <td>-25.4333</td>\n",
       "      <td>72.19</td>\n",
       "      <td>86</td>\n",
       "      <td>18</td>\n",
       "      <td>8.84</td>\n",
       "      <td>PT</td>\n",
       "      <td>1667565513</td>\n",
       "    </tr>\n",
       "    <tr>\n",
       "      <th>1</th>\n",
       "      <td>kapaa</td>\n",
       "      <td>22.0752</td>\n",
       "      <td>-159.3190</td>\n",
       "      <td>79.12</td>\n",
       "      <td>84</td>\n",
       "      <td>100</td>\n",
       "      <td>11.50</td>\n",
       "      <td>US</td>\n",
       "      <td>1667565513</td>\n",
       "    </tr>\n",
       "    <tr>\n",
       "      <th>2</th>\n",
       "      <td>punta arenas</td>\n",
       "      <td>-53.1500</td>\n",
       "      <td>-70.9167</td>\n",
       "      <td>57.22</td>\n",
       "      <td>71</td>\n",
       "      <td>75</td>\n",
       "      <td>6.91</td>\n",
       "      <td>CL</td>\n",
       "      <td>1667565514</td>\n",
       "    </tr>\n",
       "    <tr>\n",
       "      <th>3</th>\n",
       "      <td>ilulissat</td>\n",
       "      <td>69.2167</td>\n",
       "      <td>-51.1000</td>\n",
       "      <td>28.42</td>\n",
       "      <td>69</td>\n",
       "      <td>75</td>\n",
       "      <td>0.00</td>\n",
       "      <td>GL</td>\n",
       "      <td>1667565514</td>\n",
       "    </tr>\n",
       "    <tr>\n",
       "      <th>4</th>\n",
       "      <td>ushuaia</td>\n",
       "      <td>-54.8000</td>\n",
       "      <td>-68.3000</td>\n",
       "      <td>47.86</td>\n",
       "      <td>76</td>\n",
       "      <td>75</td>\n",
       "      <td>23.02</td>\n",
       "      <td>AR</td>\n",
       "      <td>1667565515</td>\n",
       "    </tr>\n",
       "  </tbody>\n",
       "</table>\n",
       "</div>"
      ],
      "text/plain": [
       "                         City      Lat       Lon  Max Temp  Humidity  \\\n",
       "City_ID                                                                \n",
       "0        vila franca do campo  37.7167  -25.4333     72.19        86   \n",
       "1                       kapaa  22.0752 -159.3190     79.12        84   \n",
       "2                punta arenas -53.1500  -70.9167     57.22        71   \n",
       "3                   ilulissat  69.2167  -51.1000     28.42        69   \n",
       "4                     ushuaia -54.8000  -68.3000     47.86        76   \n",
       "\n",
       "         Cloudiness  Wind Speed Country        Date  \n",
       "City_ID                                              \n",
       "0                18        8.84      PT  1667565513  \n",
       "1               100       11.50      US  1667565513  \n",
       "2                75        6.91      CL  1667565514  \n",
       "3                75        0.00      GL  1667565514  \n",
       "4                75       23.02      AR  1667565515  "
      ]
     },
     "execution_count": 10,
     "metadata": {},
     "output_type": "execute_result"
    }
   ],
   "source": [
    "# Read saved data\n",
    "city_data_df = pd.read_csv(\"output_data/cities.csv\", index_col=\"City_ID\")\n",
    "\n",
    "# Display sample data\n",
    "city_data_df.head()"
   ]
  },
  {
   "cell_type": "markdown",
   "metadata": {},
   "source": [
    "### Create the Scatter Plots Requested\n",
    "\n",
    "#### Latitude Vs. Temperature"
   ]
  },
  {
   "cell_type": "code",
   "execution_count": 11,
   "metadata": {
    "tags": []
   },
   "outputs": [
    {
     "data": {
      "image/png": "[encoded data removed]",
      "text/plain": [
       "<Figure size 432x288 with 1 Axes>"
      ]
     },
     "metadata": {
      "needs_background": "light"
     },
     "output_type": "display_data"
    }
   ],
   "source": [
    "# Build scatter plot for latitude vs. temperature\n",
    "plt.scatter(city_data_df[\"Lat\"], city_data_df[\"Max Temp\"])\n",
    "\n",
    "# Incorporate the other graph properties\n",
    "plt.title(\"City Latitued vs. Max Temperature (2022-10-31)\")\n",
    "plt.xlabel(\"Latitude\")\n",
    "plt.ylabel(\"Max Temperature (F)\")\n",
    "\n",
    "# Save the figure\n",
    "plt.savefig(\"output_data/Fig1.png\")\n",
    "\n",
    "# Show plot\n",
    "plt.show()"
   ]
  },
  {
   "cell_type": "markdown",
   "metadata": {},
   "source": [
    "#### Latitude Vs. Humidity"
   ]
  },
  {
   "cell_type": "code",
   "execution_count": 12,
   "metadata": {},
   "outputs": [
    {
     "data": {
      "image/png": "[encoded data removed]",
      "text/plain": [
       "<Figure size 432x288 with 1 Axes>"
      ]
     },
     "metadata": {
      "needs_background": "light"
     },
     "output_type": "display_data"
    }
   ],
   "source": [
    "# Build the scatter plots for latitude vs. humidity\n",
    "plt.scatter(city_data_df[\"Lat\"], city_data_df[\"Humidity\"])\n",
    "\n",
    "# Incorporate the other graph properties\n",
    "plt.title(\"City Latitued vs. Humidity (2022-10-31)\")\n",
    "plt.xlabel(\"Latitude\")\n",
    "plt.ylabel(\"Humidity\")\n",
    "\n",
    "# Save the figure\n",
    "plt.savefig(\"output_data/Fig2.png\")\n",
    "\n",
    "# Show plot\n",
    "plt.show()"
   ]
  },
  {
   "cell_type": "markdown",
   "metadata": {},
   "source": [
    "#### Latitude Vs. Cloudiness"
   ]
  },
  {
   "cell_type": "code",
   "execution_count": 13,
   "metadata": {},
   "outputs": [
    {
     "data": {
      "image/png": "[encoded data removed]",
      "text/plain": [
       "<Figure size 432x288 with 1 Axes>"
      ]
     },
     "metadata": {
      "needs_background": "light"
     },
     "output_type": "display_data"
    }
   ],
   "source": [
    "# Build the scatter plots for latitude vs. cloudiness\n",
    "plt.scatter(city_data_df[\"Lat\"], city_data_df[\"Cloudiness\"])\n",
    "\n",
    "# Incorporate the other graph properties\n",
    "plt.title(\"City Latitued vs. cloudiness (2022-10-31)\")\n",
    "plt.xlabel(\"Latitude\")\n",
    "plt.ylabel(\"cloudiness\")\n",
    "\n",
    "# Save the figure\n",
    "plt.savefig(\"output_data/Fig3.png\")\n",
    "\n",
    "# Show plot\n",
    "plt.show()"
   ]
  },
  {
   "cell_type": "markdown",
   "metadata": {},
   "source": [
    "#### Latitude vs. Wind Speed Plot"
   ]
  },
  {
   "cell_type": "code",
   "execution_count": 14,
   "metadata": {},
   "outputs": [
    {
     "data": {
      "image/png": "[encoded data removed]",
      "text/plain": [
       "<Figure size 432x288 with 1 Axes>"
      ]
     },
     "metadata": {
      "needs_background": "light"
     },
     "output_type": "display_data"
    }
   ],
   "source": [
    "# Build the scatter plots for latitude vs. wind speed\n",
    "plt.scatter(city_data_df[\"Lat\"], city_data_df[\"Wind Speed\"])\n",
    "\n",
    "# Incorporate the other graph properties\n",
    "plt.title(\"City Latitued vs. Wind Speed (2022-10-31)\")\n",
    "plt.xlabel(\"Latitude\")\n",
    "plt.ylabel(\"Wind Speed\")\n",
    "\n",
    "# Save the figure\n",
    "plt.savefig(\"output_data/Fig4.png\")\n",
    "\n",
    "# Show plot\n",
    "plt.show()"
   ]
  },
  {
   "cell_type": "markdown",
   "metadata": {},
   "source": [
    "---\n",
    "\n",
    "## Requirement 2: Compute Linear Regression for Each Relationship\n"
   ]
  },
  {
   "cell_type": "code",
   "execution_count": 15,
   "metadata": {},
   "outputs": [],
   "source": [
    "# Define a function to create Linear Regression plots\n",
    "def linear_regression(x,y):\n",
    "    (slope, intercept, rvalue, pvalue, stderr) = linregress(x,y)\n",
    "    print(f\"The r-squared value is: {rvalue**2}\")\n",
    "    regress_values = x * slope + intercept\n",
    "    line_eq=\"y=\"+str(round(slope,2)) + \"x + \" + str(round(intercept, 2))\n",
    "    plt.scatter(x,y)\n",
    "    plt.plot(x, regress_values,\"r-\")  \n",
    "    plt.annotate(line_eq, xy=(50, 50),xycoords='figure pixels',fontsize=15,color=\"red\")\n",
    "    plt.show()\n",
    " \n"
   ]
  },
  {
   "cell_type": "code",
   "execution_count": 16,
   "metadata": {},
   "outputs": [
    {
     "data": {
      "text/html": [
       "<div>\n",
       "<style scoped>\n",
       "    .dataframe tbody tr th:only-of-type {\n",
       "        vertical-align: middle;\n",
       "    }\n",
       "\n",
       "    .dataframe tbody tr th {\n",
       "        vertical-align: top;\n",
       "    }\n",
       "\n",
       "    .dataframe thead th {\n",
       "        text-align: right;\n",
       "    }\n",
       "</style>\n",
       "<table border=\"1\" class=\"dataframe\">\n",
       "  <thead>\n",
       "    <tr style=\"text-align: right;\">\n",
       "      <th></th>\n",
       "      <th>City</th>\n",
       "      <th>Lat</th>\n",
       "      <th>Lon</th>\n",
       "      <th>Max Temp</th>\n",
       "      <th>Humidity</th>\n",
       "      <th>Cloudiness</th>\n",
       "      <th>Wind Speed</th>\n",
       "      <th>Country</th>\n",
       "      <th>Date</th>\n",
       "    </tr>\n",
       "    <tr>\n",
       "      <th>City_ID</th>\n",
       "      <th></th>\n",
       "      <th></th>\n",
       "      <th></th>\n",
       "      <th></th>\n",
       "      <th></th>\n",
       "      <th></th>\n",
       "      <th></th>\n",
       "      <th></th>\n",
       "      <th></th>\n",
       "    </tr>\n",
       "  </thead>\n",
       "  <tbody>\n",
       "    <tr>\n",
       "      <th>0</th>\n",
       "      <td>vila franca do campo</td>\n",
       "      <td>37.7167</td>\n",
       "      <td>-25.4333</td>\n",
       "      <td>72.19</td>\n",
       "      <td>86</td>\n",
       "      <td>18</td>\n",
       "      <td>8.84</td>\n",
       "      <td>PT</td>\n",
       "      <td>1667565513</td>\n",
       "    </tr>\n",
       "    <tr>\n",
       "      <th>1</th>\n",
       "      <td>kapaa</td>\n",
       "      <td>22.0752</td>\n",
       "      <td>-159.3190</td>\n",
       "      <td>79.12</td>\n",
       "      <td>84</td>\n",
       "      <td>100</td>\n",
       "      <td>11.50</td>\n",
       "      <td>US</td>\n",
       "      <td>1667565513</td>\n",
       "    </tr>\n",
       "    <tr>\n",
       "      <th>3</th>\n",
       "      <td>ilulissat</td>\n",
       "      <td>69.2167</td>\n",
       "      <td>-51.1000</td>\n",
       "      <td>28.42</td>\n",
       "      <td>69</td>\n",
       "      <td>75</td>\n",
       "      <td>0.00</td>\n",
       "      <td>GL</td>\n",
       "      <td>1667565514</td>\n",
       "    </tr>\n",
       "    <tr>\n",
       "      <th>5</th>\n",
       "      <td>kharp</td>\n",
       "      <td>66.8014</td>\n",
       "      <td>65.8081</td>\n",
       "      <td>10.11</td>\n",
       "      <td>70</td>\n",
       "      <td>45</td>\n",
       "      <td>4.88</td>\n",
       "      <td>RU</td>\n",
       "      <td>1667565515</td>\n",
       "    </tr>\n",
       "    <tr>\n",
       "      <th>6</th>\n",
       "      <td>kachkanar</td>\n",
       "      <td>58.7000</td>\n",
       "      <td>59.4948</td>\n",
       "      <td>23.34</td>\n",
       "      <td>95</td>\n",
       "      <td>100</td>\n",
       "      <td>6.82</td>\n",
       "      <td>RU</td>\n",
       "      <td>1667565516</td>\n",
       "    </tr>\n",
       "  </tbody>\n",
       "</table>\n",
       "</div>"
      ],
      "text/plain": [
       "                         City      Lat       Lon  Max Temp  Humidity  \\\n",
       "City_ID                                                                \n",
       "0        vila franca do campo  37.7167  -25.4333     72.19        86   \n",
       "1                       kapaa  22.0752 -159.3190     79.12        84   \n",
       "3                   ilulissat  69.2167  -51.1000     28.42        69   \n",
       "5                       kharp  66.8014   65.8081     10.11        70   \n",
       "6                   kachkanar  58.7000   59.4948     23.34        95   \n",
       "\n",
       "         Cloudiness  Wind Speed Country        Date  \n",
       "City_ID                                              \n",
       "0                18        8.84      PT  1667565513  \n",
       "1               100       11.50      US  1667565513  \n",
       "3                75        0.00      GL  1667565514  \n",
       "5                45        4.88      RU  1667565515  \n",
       "6               100        6.82      RU  1667565516  "
      ]
     },
     "execution_count": 16,
     "metadata": {},
     "output_type": "execute_result"
    }
   ],
   "source": [
    "# Create a DataFrame with the Northern Hemisphere data (Latitude >= 0)\n",
    "northern_hemi_df=city_data_df.loc[city_data_df[\"Lat\"]>=0]\n",
    "\n",
    "# Display sample data\n",
    "northern_hemi_df.head()"
   ]
  },
  {
   "cell_type": "code",
   "execution_count": 17,
   "metadata": {},
   "outputs": [
    {
     "data": {
      "text/html": [
       "<div>\n",
       "<style scoped>\n",
       "    .dataframe tbody tr th:only-of-type {\n",
       "        vertical-align: middle;\n",
       "    }\n",
       "\n",
       "    .dataframe tbody tr th {\n",
       "        vertical-align: top;\n",
       "    }\n",
       "\n",
       "    .dataframe thead th {\n",
       "        text-align: right;\n",
       "    }\n",
       "</style>\n",
       "<table border=\"1\" class=\"dataframe\">\n",
       "  <thead>\n",
       "    <tr style=\"text-align: right;\">\n",
       "      <th></th>\n",
       "      <th>City</th>\n",
       "      <th>Lat</th>\n",
       "      <th>Lon</th>\n",
       "      <th>Max Temp</th>\n",
       "      <th>Humidity</th>\n",
       "      <th>Cloudiness</th>\n",
       "      <th>Wind Speed</th>\n",
       "      <th>Country</th>\n",
       "      <th>Date</th>\n",
       "    </tr>\n",
       "    <tr>\n",
       "      <th>City_ID</th>\n",
       "      <th></th>\n",
       "      <th></th>\n",
       "      <th></th>\n",
       "      <th></th>\n",
       "      <th></th>\n",
       "      <th></th>\n",
       "      <th></th>\n",
       "      <th></th>\n",
       "      <th></th>\n",
       "    </tr>\n",
       "  </thead>\n",
       "  <tbody>\n",
       "    <tr>\n",
       "      <th>2</th>\n",
       "      <td>punta arenas</td>\n",
       "      <td>-53.1500</td>\n",
       "      <td>-70.9167</td>\n",
       "      <td>57.22</td>\n",
       "      <td>71</td>\n",
       "      <td>75</td>\n",
       "      <td>6.91</td>\n",
       "      <td>CL</td>\n",
       "      <td>1667565514</td>\n",
       "    </tr>\n",
       "    <tr>\n",
       "      <th>4</th>\n",
       "      <td>ushuaia</td>\n",
       "      <td>-54.8000</td>\n",
       "      <td>-68.3000</td>\n",
       "      <td>47.86</td>\n",
       "      <td>76</td>\n",
       "      <td>75</td>\n",
       "      <td>23.02</td>\n",
       "      <td>AR</td>\n",
       "      <td>1667565515</td>\n",
       "    </tr>\n",
       "    <tr>\n",
       "      <th>9</th>\n",
       "      <td>touros</td>\n",
       "      <td>-5.1989</td>\n",
       "      <td>-35.4608</td>\n",
       "      <td>85.60</td>\n",
       "      <td>62</td>\n",
       "      <td>12</td>\n",
       "      <td>10.07</td>\n",
       "      <td>BR</td>\n",
       "      <td>1667565518</td>\n",
       "    </tr>\n",
       "    <tr>\n",
       "      <th>13</th>\n",
       "      <td>east london</td>\n",
       "      <td>-33.0153</td>\n",
       "      <td>27.9116</td>\n",
       "      <td>73.54</td>\n",
       "      <td>73</td>\n",
       "      <td>33</td>\n",
       "      <td>10.49</td>\n",
       "      <td>ZA</td>\n",
       "      <td>1667565520</td>\n",
       "    </tr>\n",
       "    <tr>\n",
       "      <th>16</th>\n",
       "      <td>bambous virieux</td>\n",
       "      <td>-20.3428</td>\n",
       "      <td>57.7575</td>\n",
       "      <td>80.85</td>\n",
       "      <td>65</td>\n",
       "      <td>75</td>\n",
       "      <td>11.50</td>\n",
       "      <td>MU</td>\n",
       "      <td>1667565521</td>\n",
       "    </tr>\n",
       "  </tbody>\n",
       "</table>\n",
       "</div>"
      ],
      "text/plain": [
       "                    City      Lat      Lon  Max Temp  Humidity  Cloudiness  \\\n",
       "City_ID                                                                      \n",
       "2           punta arenas -53.1500 -70.9167     57.22        71          75   \n",
       "4                ushuaia -54.8000 -68.3000     47.86        76          75   \n",
       "9                 touros  -5.1989 -35.4608     85.60        62          12   \n",
       "13           east london -33.0153  27.9116     73.54        73          33   \n",
       "16       bambous virieux -20.3428  57.7575     80.85        65          75   \n",
       "\n",
       "         Wind Speed Country        Date  \n",
       "City_ID                                  \n",
       "2              6.91      CL  1667565514  \n",
       "4             23.02      AR  1667565515  \n",
       "9             10.07      BR  1667565518  \n",
       "13            10.49      ZA  1667565520  \n",
       "16            11.50      MU  1667565521  "
      ]
     },
     "execution_count": 17,
     "metadata": {},
     "output_type": "execute_result"
    }
   ],
   "source": [
    "# Create a DataFrame with the Southern Hemisphere data (Latitude < 0)\n",
    "southern_hemi_df=city_data_df.loc[city_data_df[\"Lat\"]<=0]\n",
    "\n",
    "# Display sample data\n",
    "southern_hemi_df.head()"
   ]
  },
  {
   "cell_type": "markdown",
   "metadata": {},
   "source": [
    "###  Temperature vs. Latitude Linear Regression Plot"
   ]
  },
  {
   "cell_type": "code",
   "execution_count": 18,
   "metadata": {},
   "outputs": [
    {
     "name": "stdout",
     "output_type": "stream",
     "text": [
      "The r-squared value is: 0.7392659377848191\n"
     ]
    },
    {
     "data": {
      "image/png": "[encoded data removed]",
      "text/plain": [
       "<Figure size 432x288 with 1 Axes>"
      ]
     },
     "metadata": {
      "needs_background": "light"
     },
     "output_type": "display_data"
    }
   ],
   "source": [
    "# Linear regression on Northern Hemisphere\n",
    "regression_plot=linear_regression(northern_hemi_df[\"Lat\"], northern_hemi_df[\"Max Temp\"])\n"
   ]
  },
  {
   "cell_type": "code",
   "execution_count": 19,
   "metadata": {},
   "outputs": [
    {
     "name": "stdout",
     "output_type": "stream",
     "text": [
      "The r-squared value is: 0.42780175054658515\n"
     ]
    },
    {
     "data": {
      "image/png": "[encoded data removed]",
      "text/plain": [
       "<Figure size 432x288 with 1 Axes>"
      ]
     },
     "metadata": {
      "needs_background": "light"
     },
     "output_type": "display_data"
    }
   ],
   "source": [
    "# Linear regression on Southern Hemisphere\n",
    "regression_plot=linear_regression(southern_hemi_df[\"Lat\"], southern_hemi_df[\"Max Temp\"])"
   ]
  },
  {
   "cell_type": "markdown",
   "metadata": {},
   "source": [
    "**Discussion about the linear relationship:** YOUR RESPONSE HERE"
   ]
  },
  {
   "cell_type": "markdown",
   "metadata": {},
   "source": [
    "### Humidity vs. Latitude Linear Regression Plot"
   ]
  },
  {
   "cell_type": "code",
   "execution_count": 20,
   "metadata": {},
   "outputs": [
    {
     "name": "stdout",
     "output_type": "stream",
     "text": [
      "The r-squared value is: 0.09902513524070088\n"
     ]
    },
    {
     "data": {
      "image/png": "[encoded data removed]",
      "text/plain": [
       "<Figure size 432x288 with 1 Axes>"
      ]
     },
     "metadata": {
      "needs_background": "light"
     },
     "output_type": "display_data"
    }
   ],
   "source": [
    "# Northern Hemisphere\n",
    "regression_plot=linear_regression(northern_hemi_df[\"Lat\"], northern_hemi_df[\"Humidity\"])"
   ]
  },
  {
   "cell_type": "code",
   "execution_count": 72,
   "metadata": {},
   "outputs": [
    {
     "name": "stdout",
     "output_type": "stream",
     "text": [
      "The r-squared value is: 0.06435294698669486\n"
     ]
    },
    {
     "data": {
      "image/png": "[encoded data removed]",
      "text/plain": [
       "<Figure size 432x288 with 1 Axes>"
      ]
     },
     "metadata": {
      "needs_background": "light"
     },
     "output_type": "display_data"
    }
   ],
   "source": [
    "# Southern Hemisphere\n",
    "regression_plot=linear_regression(southern_hemi_df[\"Lat\"], southern_hemi_df[\"Humidity\"])"
   ]
  },
  {
   "cell_type": "markdown",
   "metadata": {},
   "source": [
    "**Discussion about the linear relationship:** YOUR RESPONSE HERE"
   ]
  },
  {
   "cell_type": "markdown",
   "metadata": {},
   "source": [
    "### Cloudiness vs. Latitude Linear Regression Plot"
   ]
  },
  {
   "cell_type": "code",
   "execution_count": 21,
   "metadata": {},
   "outputs": [
    {
     "name": "stdout",
     "output_type": "stream",
     "text": [
      "The r-squared value is: 0.05001677202583391\n"
     ]
    },
    {
     "data": {
      "image/png": "[encoded data removed]",
      "text/plain": [
       "<Figure size 432x288 with 1 Axes>"
      ]
     },
     "metadata": {
      "needs_background": "light"
     },
     "output_type": "display_data"
    }
   ],
   "source": [
    "# Northern Hemisphere\n",
    "regression_plot=linear_regression(northern_hemi_df[\"Lat\"], northern_hemi_df[\"Cloudiness\"])"
   ]
  },
  {
   "cell_type": "code",
   "execution_count": 74,
   "metadata": {},
   "outputs": [
    {
     "name": "stdout",
     "output_type": "stream",
     "text": [
      "The r-squared value is: 0.050305178669567394\n"
     ]
    },
    {
     "data": {
      "image/png": "[encoded data removed]",
      "text/plain": [
       "<Figure size 432x288 with 1 Axes>"
      ]
     },
     "metadata": {
      "needs_background": "light"
     },
     "output_type": "display_data"
    }
   ],
   "source": [
    "# Southern Hemisphere\n",
    "regression_plot=linear_regression(southern_hemi_df[\"Lat\"], southern_hemi_df[\"Cloudiness\"])"
   ]
  },
  {
   "cell_type": "markdown",
   "metadata": {},
   "source": [
    "**Discussion about the linear relationship:** YOUR RESPONSE HERE"
   ]
  },
  {
   "cell_type": "markdown",
   "metadata": {},
   "source": [
    "### Wind Speed vs. Latitude Linear Regression Plot"
   ]
  },
  {
   "cell_type": "code",
   "execution_count": 22,
   "metadata": {},
   "outputs": [
    {
     "name": "stdout",
     "output_type": "stream",
     "text": [
      "The r-squared value is: 0.007261542754812346\n"
     ]
    },
    {
     "data": {
      "image/png": "[encoded data removed]",
      "text/plain": [
       "<Figure size 432x288 with 1 Axes>"
      ]
     },
     "metadata": {
      "needs_background": "light"
     },
     "output_type": "display_data"
    }
   ],
   "source": [
    "# Northern Hemisphere\n",
    "regression_plot=linear_regression(northern_hemi_df[\"Lat\"], northern_hemi_df[\"Wind Speed\"])"
   ]
  },
  {
   "cell_type": "code",
   "execution_count": 23,
   "metadata": {},
   "outputs": [
    {
     "name": "stdout",
     "output_type": "stream",
     "text": [
      "The r-squared value is: 0.1251653461430608\n"
     ]
    },
    {
     "data": {
      "image/png": "[encoded data removed]",
      "text/plain": [
       "<Figure size 432x288 with 1 Axes>"
      ]
     },
     "metadata": {
      "needs_background": "light"
     },
     "output_type": "display_data"
    }
   ],
   "source": [
    "# Southern Hemisphere\n",
    "regression_plot=linear_regression(southern_hemi_df[\"Lat\"], southern_hemi_df[\"Wind Speed\"])"
   ]
  },
  {
   "cell_type": "markdown",
   "metadata": {},
   "source": [
    "**Discussion about the linear relationship:** YOUR RESPONSE HERE"
   ]
  },
  {
   "cell_type": "code",
   "execution_count": null,
   "metadata": {},
   "outputs": [],
   "source": []
  }
 ],
 "metadata": {
  "anaconda-cloud": {},
  "kernel_info": {
   "name": "python3"
  },
  "kernelspec": {
   "display_name": "Python 3 (ipykernel)",
   "language": "python",
   "name": "python3"
  },
  "language_info": {
   "codemirror_mode": {
    "name": "ipython",
    "version": 3
   },
   "file_extension": ".py",
   "mimetype": "text/x-python",
   "name": "python",
   "nbconvert_exporter": "python",
   "pygments_lexer": "ipython3",
   "version": "3.9.12"
  },
  "latex_envs": {
   "LaTeX_envs_menu_present": true,
   "autoclose": false,
   "autocomplete": true,
   "bibliofile": "biblio.bib",
   "cite_by": "apalike",
   "current_citInitial": 1,
   "eqLabelWithNumbers": true,
   "eqNumInitial": 1,
   "hotkeys": {
    "equation": "Ctrl-E",
    "itemize": "Ctrl-I"
   },
   "labels_anchors": false,
   "latex_user_defs": false,
   "report_style_numbering": false,
   "user_envs_cfg": false
  },
  "nteract": {
   "version": "0.12.3"
  }
 },
 "nbformat": 4,
 "nbformat_minor": 4
}
